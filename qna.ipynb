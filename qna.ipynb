{
 "cells": [
  {
   "cell_type": "code",
   "execution_count": 98,
   "metadata": {},
   "outputs": [],
   "source": [
    "import os \n",
    "from dotenv import load_dotenv"
   ]
  },
  {
   "cell_type": "code",
   "execution_count": 99,
   "metadata": {},
   "outputs": [],
   "source": [
    "load_dotenv()\n",
    "\n",
    "groq_api_key = os.getenv(\"GROQ_API_KEY\")"
   ]
  },
  {
   "cell_type": "code",
   "execution_count": 100,
   "metadata": {},
   "outputs": [],
   "source": [
    "from langchain.document_loaders import PyPDFLoader"
   ]
  },
  {
   "cell_type": "code",
   "execution_count": 101,
   "metadata": {},
   "outputs": [
    {
     "data": {
      "text/plain": [
       "'C:\\\\Users\\\\Dell\\\\OneDrive\\\\Desktop\\\\GEN AI\\\\Questoin Answer Chatbot'"
      ]
     },
     "execution_count": 101,
     "metadata": {},
     "output_type": "execute_result"
    }
   ],
   "source": [
    "%pwd"
   ]
  },
  {
   "cell_type": "code",
   "execution_count": 102,
   "metadata": {},
   "outputs": [
    {
     "name": "stdout",
     "output_type": "stream",
     "text": [
      "C:\\Users\\Dell\\OneDrive\\Desktop\\GEN AI\\Questoin Answer Chatbot\n"
     ]
    }
   ],
   "source": [
    "%cd \"C:\\Users\\Dell\\OneDrive\\Desktop\\GEN AI\\Questoin Answer Chatbot\""
   ]
  },
  {
   "cell_type": "code",
   "execution_count": 103,
   "metadata": {},
   "outputs": [
    {
     "data": {
      "text/plain": [
       "'C:\\\\Users\\\\Dell\\\\OneDrive\\\\Desktop\\\\GEN AI\\\\Questoin Answer Chatbot'"
      ]
     },
     "execution_count": 103,
     "metadata": {},
     "output_type": "execute_result"
    }
   ],
   "source": [
    "%pwd"
   ]
  },
  {
   "cell_type": "code",
   "execution_count": 104,
   "metadata": {},
   "outputs": [],
   "source": [
    "file_path = \"data/SDG.pdf\"\n",
    "loader = PyPDFLoader(file_path)\n",
    "data = loader.load()"
   ]
  },
  {
   "cell_type": "code",
   "execution_count": 105,
   "metadata": {},
   "outputs": [
    {
     "data": {
      "text/plain": [
       "[Document(metadata={'producer': 'Adobe PDF Library 15.0', 'creator': 'Adobe InDesign CC 13.0 (Macintosh)', 'creationdate': '2017-12-26T16:03:25-05:00', 'moddate': '2017-12-27T15:29:10-05:00', 'trapped': '/False', 'source': 'data/SDG.pdf', 'total_pages': 24, 'page': 0, 'page_label': '1'}, page_content=''),\n",
       " Document(metadata={'producer': 'Adobe PDF Library 15.0', 'creator': 'Adobe InDesign CC 13.0 (Macintosh)', 'creationdate': '2017-12-26T16:03:25-05:00', 'moddate': '2017-12-27T15:29:10-05:00', 'trapped': '/False', 'source': 'data/SDG.pdf', 'total_pages': 24, 'page': 1, 'page_label': '2'}, page_content=''),\n",
       " Document(metadata={'producer': 'Adobe PDF Library 15.0', 'creator': 'Adobe InDesign CC 13.0 (Macintosh)', 'creationdate': '2017-12-26T16:03:25-05:00', 'moddate': '2017-12-27T15:29:10-05:00', 'trapped': '/False', 'source': 'data/SDG.pdf', 'total_pages': 24, 'page': 2, 'page_label': '3'}, page_content='IN THE YEAR 2015, LEADERS FROM 193 COUNTRIES OF THE WORLD \\nCAME TOGETHER TO FACE THE FUTURE.\\nAnd what they saw was daunting. Famines. Drought. Wars. Plagues. Poverty. \\nNot just in some faraway place, but in their own cities and towns and villages.\\nThey knew things didn’t have to be this way. They knew we had enough \\nfood to feed the world, but that it wasn’t getting shared. They knew there \\nwere medicines for HIV and other diseases, but they cost a lot. They knew \\nthat earthquakes and floods were inevitable, but that the high death \\ntolls were not. \\nThey also knew that billions of people worldwide shared their hope for a \\nbetter future.\\nSo leaders from these countries created a plan called the Sustainable \\nDevelopment Goals (SDGs). This set of 17 goals imagines a future just 15 years \\noff that would be rid of poverty and hunger, and safe from the worst effects of \\nclimate change. It’s an ambitious plan. \\nBut there’s ample evidence that we can succeed. In the past 15 years, the \\ninternational community cut extreme poverty in half. \\nNow we can finish the job.\\nThe United Nations Development Programme (UNDP) is one of the leading \\norganizations working to fulfil the SDGs by the year 2030. Present in nearly \\n170 countries and territories, we help nations make the Goals a reality. \\nWe also champion the Goals so that people everywhere know how to \\ndo their part. \\nUNDP is proud to continue as a leader in this global movement.\\nLearn about the Sustainable Development Goals.  What’s your Goal?'),\n",
       " Document(metadata={'producer': 'Adobe PDF Library 15.0', 'creator': 'Adobe InDesign CC 13.0 (Macintosh)', 'creationdate': '2017-12-26T16:03:25-05:00', 'moddate': '2017-12-27T15:29:10-05:00', 'trapped': '/False', 'source': 'data/SDG.pdf', 'total_pages': 24, 'page': 3, 'page_label': '4'}, page_content='END EXTREME POVERTY IN ALL FORMS  \\nBY 2030.\\nYes, it’s an ambitious goal—but we believe it can be done. In 2000, the \\nworld committed to halving the number of people living in extreme \\npoverty by the year 2015 and we met this goal. However, more than \\n800 million people around the world still live on less than $1.25 a day—\\nthat’s about the equivalent of the entire population of Europe living in \\nextreme poverty. Now it’s time to build on what we learned and end \\npoverty altogether.'),\n",
       " Document(metadata={'producer': 'Adobe PDF Library 15.0', 'creator': 'Adobe InDesign CC 13.0 (Macintosh)', 'creationdate': '2017-12-26T16:03:25-05:00', 'moddate': '2017-12-27T15:29:10-05:00', 'trapped': '/False', 'source': 'data/SDG.pdf', 'total_pages': 24, 'page': 4, 'page_label': '5'}, page_content='END HUNGER, ACHIEVE FOOD SECURITY \\nAND IMPROVED NUTRITION AND PROMOTE \\nSUSTAINABLE AGRICUL TURE\\nIn the past 20 years, hunger has dropped by almost half. Many \\ncountries that used to suffer from famine and hunger can now \\nmeet the nutritional needs of their most vulnerable people. It’s an \\nincredible accomplishment. Now we can go further and end hunger \\nand malnutrition once and for all. That means doing things such as \\npromoting sustainable agriculture and supporting small farmers. It’s a tall \\norder. But for the sake of the nearly 1 out of every 9 people on earth who \\ngo to bed hungry every night, we’ve got to try. Imagine a world where \\neveryone has access to sufficient and nutritious food all year round. \\nTogether, we can make that a reality by 2030.'),\n",
       " Document(metadata={'producer': 'Adobe PDF Library 15.0', 'creator': 'Adobe InDesign CC 13.0 (Macintosh)', 'creationdate': '2017-12-26T16:03:25-05:00', 'moddate': '2017-12-27T15:29:10-05:00', 'trapped': '/False', 'source': 'data/SDG.pdf', 'total_pages': 24, 'page': 5, 'page_label': '6'}, page_content='ENSURE HEAL THY LIVES AND PROMOTE \\nWELL-BEING FOR ALL AT ALL AGES\\nWe all know how important it is to be in good health. Our health affects \\neverything from how much we enjoy life to what work we can perform. \\nThat’s why there’s a Goal to make sure everyone has health coverage \\nand access to safe and effective medicines and vaccines. In the 25 \\nyears before the SDGs, we made big strides—preventable child deaths \\ndropped by more than half, and maternal mortality went down by \\nalmost as much. And yet some other numbers remain tragically high, like \\nthe fact that 6 million children die every year before their fifth birthday, \\nor that AIDS is the leading cause of death for adolescents in sub-Saharan \\nAfrica. We have the means to turn that around and make good health \\nmore than just a wish.'),\n",
       " Document(metadata={'producer': 'Adobe PDF Library 15.0', 'creator': 'Adobe InDesign CC 13.0 (Macintosh)', 'creationdate': '2017-12-26T16:03:25-05:00', 'moddate': '2017-12-27T15:29:10-05:00', 'trapped': '/False', 'source': 'data/SDG.pdf', 'total_pages': 24, 'page': 6, 'page_label': '7'}, page_content='ENSURE INCLUSIVE AND EQUITABLE QUALITY \\nEDUCATION AND PROMOTE LIFELONG \\nLEARNING OPPORTUNITIES FOR ALL \\nFirst, the bad news on education. Poverty, armed conflict and other \\nemergencies keep many, many kids around the world out of school. In \\nfact, kids from the poorest households are four times more likely to be \\nout of school than those of the richest households. Now for some good \\nnews. Since 2000, there has been enormous progress on the goal to \\nprovide primary education to all children worldwide: the total enrolment \\nrate in developing regions has reached 91%. By measures in any school, \\nthat’s a good grade. Now, let’s get an even better grade for all kids, \\nand achieve the goal of universal primary and secondary education, \\naffordable vocational training, access to higher education and more.'),\n",
       " Document(metadata={'producer': 'Adobe PDF Library 15.0', 'creator': 'Adobe InDesign CC 13.0 (Macintosh)', 'creationdate': '2017-12-26T16:03:25-05:00', 'moddate': '2017-12-27T15:29:10-05:00', 'trapped': '/False', 'source': 'data/SDG.pdf', 'total_pages': 24, 'page': 7, 'page_label': '8'}, page_content='We can celebrate the great progress the world has made in becoming \\nmore prosperous and fair. But there’s a shadow to the celebration. In \\njust about every way, women and girls lag behind. There are still gross \\ninequalities in work and wages, lots of unpaid “women’s work” such as \\nchild care and domestic work, and discrimination in public decision-\\nmaking. But there are grounds for hope. More girls are in school now \\ncompared to in 2000. Most regions have reached gender parity in \\nprimary education. The percentage of women getting paid for their work \\nis on the rise. The Sustainable Development Goals aim to build on these \\nachievements to ensure that there is an end to discrimination against \\nwomen and girls everywhere.\\nACHIEVE GENDER EQUALITY AND \\nEMPOWER ALL WOMEN AND GIRLS'),\n",
       " Document(metadata={'producer': 'Adobe PDF Library 15.0', 'creator': 'Adobe InDesign CC 13.0 (Macintosh)', 'creationdate': '2017-12-26T16:03:25-05:00', 'moddate': '2017-12-27T15:29:10-05:00', 'trapped': '/False', 'source': 'data/SDG.pdf', 'total_pages': 24, 'page': 8, 'page_label': '9'}, page_content='Everyone on earth should have access to safe and affordable drinking \\nwater. That’s the goal for 2030. While many people take clean drinking \\nwater and sanitation for granted, many others don’t. Water scarcity \\naffects more than 40 percent of people around the world, and that \\nnumber is projected to go even higher as a result of climate change. \\nIf we continue the path we’re on, by 2050 at least one in four people \\nare likely to be affected by recurring water shortages. But we can take \\na new path—more international cooperation, protecting wetlands \\nand rivers, sharing water-treatment technologies—that leads to \\naccomplishing this Goal. \\nENSURE AVAILABILITY AND SUSTAINABLE \\nMANAGEMENT OF WATER AND SANITATION \\nFOR ALL'),\n",
       " Document(metadata={'producer': 'Adobe PDF Library 15.0', 'creator': 'Adobe InDesign CC 13.0 (Macintosh)', 'creationdate': '2017-12-26T16:03:25-05:00', 'moddate': '2017-12-27T15:29:10-05:00', 'trapped': '/False', 'source': 'data/SDG.pdf', 'total_pages': 24, 'page': 9, 'page_label': '10'}, page_content='ENSURE ACCESS TO AFFORDABLE, RELIABLE, \\nSUSTAINABLE AND MODERN ENERGY FOR \\nALL \\nBetween 1990 and 2010, the number of people with access to electricity \\nincreased by 1.7 billion. That’s progress to be proud of. And yet as the \\nworld’s population continues to rise, still more people will need cheap \\nenergy to light their homes and streets, use phones and computers, \\nand do their everyday business. How we get that energy is at issue; fossil \\nfuels and greenhouse gas emissions are making drastic changes in the \\nclimate, leading to big problems on every continent. Instead, we can \\nbecome more energy-efficient and invest in clean energy sources such \\nas solar and wind. That way we’ll meet electricity needs and protect the \\nenvironment. How’s that for a balancing act?'),\n",
       " Document(metadata={'producer': 'Adobe PDF Library 15.0', 'creator': 'Adobe InDesign CC 13.0 (Macintosh)', 'creationdate': '2017-12-26T16:03:25-05:00', 'moddate': '2017-12-27T15:29:10-05:00', 'trapped': '/False', 'source': 'data/SDG.pdf', 'total_pages': 24, 'page': 10, 'page_label': '11'}, page_content='PROMOTE SUSTAINED, INCLUSIVE AND \\nSUSTAINABLE ECONOMIC GROWTH, FULL \\nAND PRODUCTIVE EMPLOYMENT AND \\nDECENT WORK FOR ALL \\nAn important part of economic growth is that people have jobs that \\npay enough to support themselves and their families. The good news \\nis that the middle class is growing worldwide—almost tripling in size \\nin developing countries in the last 25 years, to more than a third of the \\npopulation. But today, job growth is not keeping pace with the growing \\nlabour force. Things don’t have to be that way. We can promote policies \\nthat encourage entrepreneurship and job creation. We can eradicate \\nforced labour, slavery and human trafficking. And in the end we can \\nachieve the goal of decent work for all women and men by 2030.'),\n",
       " Document(metadata={'producer': 'Adobe PDF Library 15.0', 'creator': 'Adobe InDesign CC 13.0 (Macintosh)', 'creationdate': '2017-12-26T16:03:25-05:00', 'moddate': '2017-12-27T15:29:10-05:00', 'trapped': '/False', 'source': 'data/SDG.pdf', 'total_pages': 24, 'page': 11, 'page_label': '12'}, page_content='BUILD RESILIENT INFRASTRUCTURE, \\nPROMOTE INCLUSIVE AND SUSTAINABLE \\nINDUSTRIALIZATION AND FOSTER \\nINNOVATION \\nTechnological progress helps us address big global challenges such as \\ncreating jobs and becoming more energy efficient. For example, the \\nworld is becoming ever more interconnected and prosperous thanks to \\nthe internet. The more connected we are, the more we can all benefit \\nfrom the wisdom and contributions of people everywhere on earth.  And \\nyet four billion people have no way of getting online, the vast majority \\nof them in developing countries. The more we invest in innovation \\nand infrastructure, the better off we’ll all be. Bridging the digital divide, \\npromoting sustainable industries, and investing in scientific research and \\ninnovation are all important ways to facilitate sustainable development.'),\n",
       " Document(metadata={'producer': 'Adobe PDF Library 15.0', 'creator': 'Adobe InDesign CC 13.0 (Macintosh)', 'creationdate': '2017-12-26T16:03:25-05:00', 'moddate': '2017-12-27T15:29:10-05:00', 'trapped': '/False', 'source': 'data/SDG.pdf', 'total_pages': 24, 'page': 12, 'page_label': '13'}, page_content='REDUCE INEQUALITY WITHIN AND AMONG \\nCOUNTRIES \\nIt’s an old story: the rich get richer, and the poor get poorer. The divide \\nhas never been starker. We can and must adopt policies that create \\nopportunity for everyone, regardless of who they are or where they \\ncome from. Income inequality is a global problem that requires global \\nsolutions. That means improving the regulation of financial markets \\nand institutions, sending development aid where it is most needed \\nand helping people migrate safely so they can pursue opportunities. \\nTogether, we can now change the direction of the old story of inequality.'),\n",
       " Document(metadata={'producer': 'Adobe PDF Library 15.0', 'creator': 'Adobe InDesign CC 13.0 (Macintosh)', 'creationdate': '2017-12-26T16:03:25-05:00', 'moddate': '2017-12-27T15:29:10-05:00', 'trapped': '/False', 'source': 'data/SDG.pdf', 'total_pages': 24, 'page': 13, 'page_label': '14'}, page_content='MAKE CITIES AND HUMAN SETTLEMENTS \\nINCLUSIVE, SAFE, RESILIENT AND \\nSUSTAINABLE \\nIf you’re like most people, you live in a city. More than half the world’s \\npopulation now lives in cities, and that figure will go to about two-thirds \\nof humanity by the year 2050. Cities are getting bigger. In 1990 there \\nwere ten “mega-cities” with 10 million inhabitants or more. In 2014, there \\nwere 28 mega-cities, home to 453 million people. Incredible, huh? A lot \\nof people love cities; they’re centers of culture and business and life. The \\nthing is, they’re also often centers of extreme poverty. To make cities \\nsustainable for all, we can create good, affordable public housing. We \\ncan upgrade slum settlements. We can invest in public transport, create \\ngreen spaces, and get a broader range of people involved in urban \\nplanning decisions. That way, we can keep the things we love about \\ncities, and change the things we don’t.'),\n",
       " Document(metadata={'producer': 'Adobe PDF Library 15.0', 'creator': 'Adobe InDesign CC 13.0 (Macintosh)', 'creationdate': '2017-12-26T16:03:25-05:00', 'moddate': '2017-12-27T15:29:10-05:00', 'trapped': '/False', 'source': 'data/SDG.pdf', 'total_pages': 24, 'page': 14, 'page_label': '15'}, page_content='ENSURE SUSTAINABLE CONSUMPTION AND \\nPRODUCTION PATTERNS\\nSome people use a lot of stuff, and some people use very little—in fact, \\na big share of the world population is consuming too little to meet even \\ntheir basic needs. Instead, we can have a world where everybody gets \\nwhat they need to survive and thrive. And we can consume in a way \\nthat preserves our natural resources so that our children can enjoy them, \\nand their children and their children after that. The hard part is how to \\nachieve that goal. We can manage our natural resources more efficiently \\nand dispose of toxic waste better. Cut per capita food waste in half \\nglobally. Get businesses and consumers to reduce and recycle waste. \\nAnd help countries that have typically not consumed a lot to move \\ntowards more responsible consumption patterns.'),\n",
       " Document(metadata={'producer': 'Adobe PDF Library 15.0', 'creator': 'Adobe InDesign CC 13.0 (Macintosh)', 'creationdate': '2017-12-26T16:03:25-05:00', 'moddate': '2017-12-27T15:29:10-05:00', 'trapped': '/False', 'source': 'data/SDG.pdf', 'total_pages': 24, 'page': 15, 'page_label': '16'}, page_content='TAKE URGENT ACTION TO COMBAT CLIMATE \\nCHANGE AND ITS IMPACTS\\nEvery country in the world is seeing the drastic effects of climate \\nchange, some more than others. On average, the annual losses just \\nfrom earthquakes, tsunamis, tropical cyclones and flooding count in the \\nhundreds of billions of dollars. We can reduce the loss of life and property \\nby helping more vulnerable regions—such as land-locked countries \\nand island states—become more resilient. It is still possible, with the \\npolitical will and technological measures, to limit the increase in global \\nmean temperature to two degrees Celsius above pre-industrial levels—\\nand thus avoid the worst effects of climate change. The Sustainable \\nDevelopment Goals lay out a way for countries to work together to meet \\nthis urgent challenge.'),\n",
       " Document(metadata={'producer': 'Adobe PDF Library 15.0', 'creator': 'Adobe InDesign CC 13.0 (Macintosh)', 'creationdate': '2017-12-26T16:03:25-05:00', 'moddate': '2017-12-27T15:29:10-05:00', 'trapped': '/False', 'source': 'data/SDG.pdf', 'total_pages': 24, 'page': 16, 'page_label': '17'}, page_content='CONSERVE AND SUSTAINABLY USE THE \\nOCEANS, SEAS AND MARINE RESOURCES \\nFOR SUSTAINABLE DEVELOPMENT\\nThe oceans make human life possible. Their temperature, their chemistry, \\ntheir currents, their life forms. For one thing, more than 3 billion people \\ndepend on marine and coastal diversity for their livelihoods. But today \\nwe are seeing nearly a third of the world’s fish stocks overexploited. \\nThat’s not a sustainable way of life. Even people who live nowhere near \\nthe ocean can’t live without it. Oceans absorb about 30 percent of the \\ncarbon dioxide that humans produce; but we’re producing more carbon \\ndioxide than ever before and that makes the oceans more acidic—26% \\nmore, since the start of the industrial revolution. Our trash doesn’t help \\neither—13,000 pieces of plastic litter on every square kilometer of ocean. \\nSounds bad, right? Don’t despair! The Sustainable Development Goals \\nindicate targets for managing and protecting life below water.'),\n",
       " Document(metadata={'producer': 'Adobe PDF Library 15.0', 'creator': 'Adobe InDesign CC 13.0 (Macintosh)', 'creationdate': '2017-12-26T16:03:25-05:00', 'moddate': '2017-12-27T15:29:10-05:00', 'trapped': '/False', 'source': 'data/SDG.pdf', 'total_pages': 24, 'page': 17, 'page_label': '18'}, page_content='PROTECT, RESTORE AND PROMOTE \\nSUSTAINABLE USE OF TERRESTRIAL \\nECOSYSTEMS, SUSTAINABLY MANAGE \\nFORESTS, COMBAT DESERTIFICATION, AND \\nHAL T AND REVERSE LAND DEGRADATION \\nAND HAL T BIODIVERSITY LOSS \\nHumans and other animals rely on other forms of life on land for food, \\nclean air, clean water, and as a means of combatting climate change. \\nPlant life makes up 80% of the human diet. Forests, which cover 30% \\nof the Earth’s surface, help keep the air and water clean and the Earth’s \\nclimate in balance. That’s not to mention they’re home to millions of \\nanimal species. But the land and life on it are in trouble. Arable land \\nis disappearing 30 to 35 times faster than it has historically. Deserts \\nare spreading. Animal breeds are going extinct. We can turn these \\ntrends around. Fortunately, the Sustainable Development Goals aim to \\nconserve and restore the use of terrestrial ecosystems such as forests, \\nwetlands, drylands and mountains by 2030.'),\n",
       " Document(metadata={'producer': 'Adobe PDF Library 15.0', 'creator': 'Adobe InDesign CC 13.0 (Macintosh)', 'creationdate': '2017-12-26T16:03:25-05:00', 'moddate': '2017-12-27T15:29:10-05:00', 'trapped': '/False', 'source': 'data/SDG.pdf', 'total_pages': 24, 'page': 18, 'page_label': '19'}, page_content='PROMOTE PEACEFUL AND INCLUSIVE \\nSOCIETIES FOR SUSTAINABLE \\nDEVELOPMENT, PROVIDE ACCESS TO \\nJUSTICE FOR ALL AND BUILD EFFECTIVE, \\nACCOUNTABLE AND INCLUSIVE \\nINSTITUTIONS AT ALL LEVELS \\nHow can a country develop—how can people eat and teach and learn \\nand work and raise families—without peace? And how can a country \\nhave peace without justice, without human rights, without government \\nbased on the rule of law? Some parts of the world enjoy relative peace \\nand justice, and may come to take it for granted. Other parts seem to \\nbe plagued by armed conflict, crime, torture and exploitation, all of \\nwhich hinders their development. The goal of peace and justice is one \\nfor all countries to strive towards. The Sustainable Development Goals \\naim to reduce all forms of violence and propose that governments \\nand communities find lasting solutions to conflict and insecurity. That \\nmeans strengthening the rule of law, reducing the flow of illicit arms, \\nand bringing developing countries more into the center of institutions \\nof global governance.'),\n",
       " Document(metadata={'producer': 'Adobe PDF Library 15.0', 'creator': 'Adobe InDesign CC 13.0 (Macintosh)', 'creationdate': '2017-12-26T16:03:25-05:00', 'moddate': '2017-12-27T15:29:10-05:00', 'trapped': '/False', 'source': 'data/SDG.pdf', 'total_pages': 24, 'page': 19, 'page_label': '20'}, page_content='STRENGTHEN THE MEANS OF \\nIMPLEMENTATION AND REVITALIZE THE \\nGLOBAL PARTNERSHIP FOR SUSTAINABLE \\nDEVELOPMENT \\nThe Sustainable Development Goals are pretty big to-do list, don’t you \\nthink? In fact, it’s so big, you may just want to throw your hands up in the \\nair. “Forget it! Can’t be done! Why even try!” But we’ve got a lot going for \\nus. The world is more interconnected today than ever before, thanks to \\nthe internet, travel and global institutions. There’s a growing consensus \\nabout the need to work together to stop climate change. And the \\nSustainable Development Goals are no small matter either. 193 countries \\nagreed on these goals. Pretty incredible, isn’t it? 193 countries agreeing \\non anything? The final goal lays out a way for nations to work together to \\nachieve all the other Goals.'),\n",
       " Document(metadata={'producer': 'Adobe PDF Library 15.0', 'creator': 'Adobe InDesign CC 13.0 (Macintosh)', 'creationdate': '2017-12-26T16:03:25-05:00', 'moddate': '2017-12-27T15:29:10-05:00', 'trapped': '/False', 'source': 'data/SDG.pdf', 'total_pages': 24, 'page': 20, 'page_label': '21'}, page_content='Go shopping \\nMake a donation \\nStart a fundraiser \\nSpread the word \\nVisit shop.undp.org for SDG merchandise, and show off the goals you’re \\nmost passionate about. \\nMoney doesn’t just make the world go around; it’s also the most direct \\nway to reduce and eradicate all forms of poverty.\\nFundraising is a great way to raise money, create awareness, and inspire \\nothers. Plus, it’s fun!\\nSearch for @UNDP on Twitter, Facebook and Instagram, and share the \\ncontent you love.\\nTo donate or learn more about fundraising, visit undp.org/takeaction\\nThere are many ways to show your support and help us reach \\nthe Sustainable Development Goals by 2030. Here are a few :\\nWHA T CAN  \\nI DO TO HELP?'),\n",
       " Document(metadata={'producer': 'Adobe PDF Library 15.0', 'creator': 'Adobe InDesign CC 13.0 (Macintosh)', 'creationdate': '2017-12-26T16:03:25-05:00', 'moddate': '2017-12-27T15:29:10-05:00', 'trapped': '/False', 'source': 'data/SDG.pdf', 'total_pages': 24, 'page': 21, 'page_label': '22'}, page_content='NOTES'),\n",
       " Document(metadata={'producer': 'Adobe PDF Library 15.0', 'creator': 'Adobe InDesign CC 13.0 (Macintosh)', 'creationdate': '2017-12-26T16:03:25-05:00', 'moddate': '2017-12-27T15:29:10-05:00', 'trapped': '/False', 'source': 'data/SDG.pdf', 'total_pages': 24, 'page': 22, 'page_label': '23'}, page_content='NOTES'),\n",
       " Document(metadata={'producer': 'Adobe PDF Library 15.0', 'creator': 'Adobe InDesign CC 13.0 (Macintosh)', 'creationdate': '2017-12-26T16:03:25-05:00', 'moddate': '2017-12-27T15:29:10-05:00', 'trapped': '/False', 'source': 'data/SDG.pdf', 'total_pages': 24, 'page': 23, 'page_label': '24'}, page_content='')]"
      ]
     },
     "execution_count": 105,
     "metadata": {},
     "output_type": "execute_result"
    }
   ],
   "source": [
    "data"
   ]
  },
  {
   "cell_type": "code",
   "execution_count": 106,
   "metadata": {},
   "outputs": [
    {
     "data": {
      "text/plain": [
       "24"
      ]
     },
     "execution_count": 106,
     "metadata": {},
     "output_type": "execute_result"
    }
   ],
   "source": [
    "\n",
    "len(data)"
   ]
  },
  {
   "cell_type": "code",
   "execution_count": 107,
   "metadata": {},
   "outputs": [],
   "source": [
    "question_gen = \"\"\n",
    "for page in data:\n",
    "    question_gen += page.page_content\n",
    "    "
   ]
  },
  {
   "cell_type": "code",
   "execution_count": 108,
   "metadata": {},
   "outputs": [
    {
     "data": {
      "text/plain": [
       "'IN THE YEAR 2015, LEADERS FROM 193 COUNTRIES OF THE WORLD \\nCAME TOGETHER TO FACE THE FUTURE.\\nAnd what they saw was daunting. Famines. Drought. Wars. Plagues. Poverty. \\nNot just in some faraway place, but in their own cities and towns and villages.\\nThey knew things didn’t have to be this way. They knew we had enough \\nfood to feed the world, but that it wasn’t getting shared. They knew there \\nwere medicines for HIV and other diseases, but they cost a lot. They knew \\nthat earthquakes and floods were inevitable, but that the high death \\ntolls were not. \\nThey also knew that billions of people worldwide shared their hope for a \\nbetter future.\\nSo leaders from these countries created a plan called the Sustainable \\nDevelopment Goals (SDGs). This set of 17 goals imagines a future just 15 years \\noff that would be rid of poverty and hunger, and safe from the worst effects of \\nclimate change. It’s an ambitious plan. \\nBut there’s ample evidence that we can succeed. In the past 15 years, the \\ninternational community cut extreme poverty in half. \\nNow we can finish the job.\\nThe United Nations Development Programme (UNDP) is one of the leading \\norganizations working to fulfil the SDGs by the year 2030. Present in nearly \\n170 countries and territories, we help nations make the Goals a reality. \\nWe also champion the Goals so that people everywhere know how to \\ndo their part. \\nUNDP is proud to continue as a leader in this global movement.\\nLearn about the Sustainable Development Goals.  What’s your Goal?END EXTREME POVERTY IN ALL FORMS  \\nBY 2030.\\nYes, it’s an ambitious goal—but we believe it can be done. In 2000, the \\nworld committed to halving the number of people living in extreme \\npoverty by the year 2015 and we met this goal. However, more than \\n800 million people around the world still live on less than $1.25 a day—\\nthat’s about the equivalent of the entire population of Europe living in \\nextreme poverty. Now it’s time to build on what we learned and end \\npoverty altogether.END HUNGER, ACHIEVE FOOD SECURITY \\nAND IMPROVED NUTRITION AND PROMOTE \\nSUSTAINABLE AGRICUL TURE\\nIn the past 20 years, hunger has dropped by almost half. Many \\ncountries that used to suffer from famine and hunger can now \\nmeet the nutritional needs of their most vulnerable people. It’s an \\nincredible accomplishment. Now we can go further and end hunger \\nand malnutrition once and for all. That means doing things such as \\npromoting sustainable agriculture and supporting small farmers. It’s a tall \\norder. But for the sake of the nearly 1 out of every 9 people on earth who \\ngo to bed hungry every night, we’ve got to try. Imagine a world where \\neveryone has access to sufficient and nutritious food all year round. \\nTogether, we can make that a reality by 2030.ENSURE HEAL THY LIVES AND PROMOTE \\nWELL-BEING FOR ALL AT ALL AGES\\nWe all know how important it is to be in good health. Our health affects \\neverything from how much we enjoy life to what work we can perform. \\nThat’s why there’s a Goal to make sure everyone has health coverage \\nand access to safe and effective medicines and vaccines. In the 25 \\nyears before the SDGs, we made big strides—preventable child deaths \\ndropped by more than half, and maternal mortality went down by \\nalmost as much. And yet some other numbers remain tragically high, like \\nthe fact that 6 million children die every year before their fifth birthday, \\nor that AIDS is the leading cause of death for adolescents in sub-Saharan \\nAfrica. We have the means to turn that around and make good health \\nmore than just a wish.ENSURE INCLUSIVE AND EQUITABLE QUALITY \\nEDUCATION AND PROMOTE LIFELONG \\nLEARNING OPPORTUNITIES FOR ALL \\nFirst, the bad news on education. Poverty, armed conflict and other \\nemergencies keep many, many kids around the world out of school. In \\nfact, kids from the poorest households are four times more likely to be \\nout of school than those of the richest households. Now for some good \\nnews. Since 2000, there has been enormous progress on the goal to \\nprovide primary education to all children worldwide: the total enrolment \\nrate in developing regions has reached 91%. By measures in any school, \\nthat’s a good grade. Now, let’s get an even better grade for all kids, \\nand achieve the goal of universal primary and secondary education, \\naffordable vocational training, access to higher education and more.We can celebrate the great progress the world has made in becoming \\nmore prosperous and fair. But there’s a shadow to the celebration. In \\njust about every way, women and girls lag behind. There are still gross \\ninequalities in work and wages, lots of unpaid “women’s work” such as \\nchild care and domestic work, and discrimination in public decision-\\nmaking. But there are grounds for hope. More girls are in school now \\ncompared to in 2000. Most regions have reached gender parity in \\nprimary education. The percentage of women getting paid for their work \\nis on the rise. The Sustainable Development Goals aim to build on these \\nachievements to ensure that there is an end to discrimination against \\nwomen and girls everywhere.\\nACHIEVE GENDER EQUALITY AND \\nEMPOWER ALL WOMEN AND GIRLSEveryone on earth should have access to safe and affordable drinking \\nwater. That’s the goal for 2030. While many people take clean drinking \\nwater and sanitation for granted, many others don’t. Water scarcity \\naffects more than 40 percent of people around the world, and that \\nnumber is projected to go even higher as a result of climate change. \\nIf we continue the path we’re on, by 2050 at least one in four people \\nare likely to be affected by recurring water shortages. But we can take \\na new path—more international cooperation, protecting wetlands \\nand rivers, sharing water-treatment technologies—that leads to \\naccomplishing this Goal. \\nENSURE AVAILABILITY AND SUSTAINABLE \\nMANAGEMENT OF WATER AND SANITATION \\nFOR ALLENSURE ACCESS TO AFFORDABLE, RELIABLE, \\nSUSTAINABLE AND MODERN ENERGY FOR \\nALL \\nBetween 1990 and 2010, the number of people with access to electricity \\nincreased by 1.7 billion. That’s progress to be proud of. And yet as the \\nworld’s population continues to rise, still more people will need cheap \\nenergy to light their homes and streets, use phones and computers, \\nand do their everyday business. How we get that energy is at issue; fossil \\nfuels and greenhouse gas emissions are making drastic changes in the \\nclimate, leading to big problems on every continent. Instead, we can \\nbecome more energy-efficient and invest in clean energy sources such \\nas solar and wind. That way we’ll meet electricity needs and protect the \\nenvironment. How’s that for a balancing act?PROMOTE SUSTAINED, INCLUSIVE AND \\nSUSTAINABLE ECONOMIC GROWTH, FULL \\nAND PRODUCTIVE EMPLOYMENT AND \\nDECENT WORK FOR ALL \\nAn important part of economic growth is that people have jobs that \\npay enough to support themselves and their families. The good news \\nis that the middle class is growing worldwide—almost tripling in size \\nin developing countries in the last 25 years, to more than a third of the \\npopulation. But today, job growth is not keeping pace with the growing \\nlabour force. Things don’t have to be that way. We can promote policies \\nthat encourage entrepreneurship and job creation. We can eradicate \\nforced labour, slavery and human trafficking. And in the end we can \\nachieve the goal of decent work for all women and men by 2030.BUILD RESILIENT INFRASTRUCTURE, \\nPROMOTE INCLUSIVE AND SUSTAINABLE \\nINDUSTRIALIZATION AND FOSTER \\nINNOVATION \\nTechnological progress helps us address big global challenges such as \\ncreating jobs and becoming more energy efficient. For example, the \\nworld is becoming ever more interconnected and prosperous thanks to \\nthe internet. The more connected we are, the more we can all benefit \\nfrom the wisdom and contributions of people everywhere on earth.  And \\nyet four billion people have no way of getting online, the vast majority \\nof them in developing countries. The more we invest in innovation \\nand infrastructure, the better off we’ll all be. Bridging the digital divide, \\npromoting sustainable industries, and investing in scientific research and \\ninnovation are all important ways to facilitate sustainable development.REDUCE INEQUALITY WITHIN AND AMONG \\nCOUNTRIES \\nIt’s an old story: the rich get richer, and the poor get poorer. The divide \\nhas never been starker. We can and must adopt policies that create \\nopportunity for everyone, regardless of who they are or where they \\ncome from. Income inequality is a global problem that requires global \\nsolutions. That means improving the regulation of financial markets \\nand institutions, sending development aid where it is most needed \\nand helping people migrate safely so they can pursue opportunities. \\nTogether, we can now change the direction of the old story of inequality.MAKE CITIES AND HUMAN SETTLEMENTS \\nINCLUSIVE, SAFE, RESILIENT AND \\nSUSTAINABLE \\nIf you’re like most people, you live in a city. More than half the world’s \\npopulation now lives in cities, and that figure will go to about two-thirds \\nof humanity by the year 2050. Cities are getting bigger. In 1990 there \\nwere ten “mega-cities” with 10 million inhabitants or more. In 2014, there \\nwere 28 mega-cities, home to 453 million people. Incredible, huh? A lot \\nof people love cities; they’re centers of culture and business and life. The \\nthing is, they’re also often centers of extreme poverty. To make cities \\nsustainable for all, we can create good, affordable public housing. We \\ncan upgrade slum settlements. We can invest in public transport, create \\ngreen spaces, and get a broader range of people involved in urban \\nplanning decisions. That way, we can keep the things we love about \\ncities, and change the things we don’t.ENSURE SUSTAINABLE CONSUMPTION AND \\nPRODUCTION PATTERNS\\nSome people use a lot of stuff, and some people use very little—in fact, \\na big share of the world population is consuming too little to meet even \\ntheir basic needs. Instead, we can have a world where everybody gets \\nwhat they need to survive and thrive. And we can consume in a way \\nthat preserves our natural resources so that our children can enjoy them, \\nand their children and their children after that. The hard part is how to \\nachieve that goal. We can manage our natural resources more efficiently \\nand dispose of toxic waste better. Cut per capita food waste in half \\nglobally. Get businesses and consumers to reduce and recycle waste. \\nAnd help countries that have typically not consumed a lot to move \\ntowards more responsible consumption patterns.TAKE URGENT ACTION TO COMBAT CLIMATE \\nCHANGE AND ITS IMPACTS\\nEvery country in the world is seeing the drastic effects of climate \\nchange, some more than others. On average, the annual losses just \\nfrom earthquakes, tsunamis, tropical cyclones and flooding count in the \\nhundreds of billions of dollars. We can reduce the loss of life and property \\nby helping more vulnerable regions—such as land-locked countries \\nand island states—become more resilient. It is still possible, with the \\npolitical will and technological measures, to limit the increase in global \\nmean temperature to two degrees Celsius above pre-industrial levels—\\nand thus avoid the worst effects of climate change. The Sustainable \\nDevelopment Goals lay out a way for countries to work together to meet \\nthis urgent challenge.CONSERVE AND SUSTAINABLY USE THE \\nOCEANS, SEAS AND MARINE RESOURCES \\nFOR SUSTAINABLE DEVELOPMENT\\nThe oceans make human life possible. Their temperature, their chemistry, \\ntheir currents, their life forms. For one thing, more than 3 billion people \\ndepend on marine and coastal diversity for their livelihoods. But today \\nwe are seeing nearly a third of the world’s fish stocks overexploited. \\nThat’s not a sustainable way of life. Even people who live nowhere near \\nthe ocean can’t live without it. Oceans absorb about 30 percent of the \\ncarbon dioxide that humans produce; but we’re producing more carbon \\ndioxide than ever before and that makes the oceans more acidic—26% \\nmore, since the start of the industrial revolution. Our trash doesn’t help \\neither—13,000 pieces of plastic litter on every square kilometer of ocean. \\nSounds bad, right? Don’t despair! The Sustainable Development Goals \\nindicate targets for managing and protecting life below water.PROTECT, RESTORE AND PROMOTE \\nSUSTAINABLE USE OF TERRESTRIAL \\nECOSYSTEMS, SUSTAINABLY MANAGE \\nFORESTS, COMBAT DESERTIFICATION, AND \\nHAL T AND REVERSE LAND DEGRADATION \\nAND HAL T BIODIVERSITY LOSS \\nHumans and other animals rely on other forms of life on land for food, \\nclean air, clean water, and as a means of combatting climate change. \\nPlant life makes up 80% of the human diet. Forests, which cover 30% \\nof the Earth’s surface, help keep the air and water clean and the Earth’s \\nclimate in balance. That’s not to mention they’re home to millions of \\nanimal species. But the land and life on it are in trouble. Arable land \\nis disappearing 30 to 35 times faster than it has historically. Deserts \\nare spreading. Animal breeds are going extinct. We can turn these \\ntrends around. Fortunately, the Sustainable Development Goals aim to \\nconserve and restore the use of terrestrial ecosystems such as forests, \\nwetlands, drylands and mountains by 2030.PROMOTE PEACEFUL AND INCLUSIVE \\nSOCIETIES FOR SUSTAINABLE \\nDEVELOPMENT, PROVIDE ACCESS TO \\nJUSTICE FOR ALL AND BUILD EFFECTIVE, \\nACCOUNTABLE AND INCLUSIVE \\nINSTITUTIONS AT ALL LEVELS \\nHow can a country develop—how can people eat and teach and learn \\nand work and raise families—without peace? And how can a country \\nhave peace without justice, without human rights, without government \\nbased on the rule of law? Some parts of the world enjoy relative peace \\nand justice, and may come to take it for granted. Other parts seem to \\nbe plagued by armed conflict, crime, torture and exploitation, all of \\nwhich hinders their development. The goal of peace and justice is one \\nfor all countries to strive towards. The Sustainable Development Goals \\naim to reduce all forms of violence and propose that governments \\nand communities find lasting solutions to conflict and insecurity. That \\nmeans strengthening the rule of law, reducing the flow of illicit arms, \\nand bringing developing countries more into the center of institutions \\nof global governance.STRENGTHEN THE MEANS OF \\nIMPLEMENTATION AND REVITALIZE THE \\nGLOBAL PARTNERSHIP FOR SUSTAINABLE \\nDEVELOPMENT \\nThe Sustainable Development Goals are pretty big to-do list, don’t you \\nthink? In fact, it’s so big, you may just want to throw your hands up in the \\nair. “Forget it! Can’t be done! Why even try!” But we’ve got a lot going for \\nus. The world is more interconnected today than ever before, thanks to \\nthe internet, travel and global institutions. There’s a growing consensus \\nabout the need to work together to stop climate change. And the \\nSustainable Development Goals are no small matter either. 193 countries \\nagreed on these goals. Pretty incredible, isn’t it? 193 countries agreeing \\non anything? The final goal lays out a way for nations to work together to \\nachieve all the other Goals.Go shopping \\nMake a donation \\nStart a fundraiser \\nSpread the word \\nVisit shop.undp.org for SDG merchandise, and show off the goals you’re \\nmost passionate about. \\nMoney doesn’t just make the world go around; it’s also the most direct \\nway to reduce and eradicate all forms of poverty.\\nFundraising is a great way to raise money, create awareness, and inspire \\nothers. Plus, it’s fun!\\nSearch for @UNDP on Twitter, Facebook and Instagram, and share the \\ncontent you love.\\nTo donate or learn more about fundraising, visit undp.org/takeaction\\nThere are many ways to show your support and help us reach \\nthe Sustainable Development Goals by 2030. Here are a few :\\nWHA T CAN  \\nI DO TO HELP?NOTESNOTES'"
      ]
     },
     "execution_count": 108,
     "metadata": {},
     "output_type": "execute_result"
    }
   ],
   "source": [
    "question_gen"
   ]
  },
  {
   "cell_type": "code",
   "execution_count": 109,
   "metadata": {},
   "outputs": [],
   "source": [
    "from langchain.text_splitter import TokenTextSplitter"
   ]
  },
  {
   "cell_type": "code",
   "execution_count": 110,
   "metadata": {},
   "outputs": [],
   "source": [
    "import tiktoken"
   ]
  },
  {
   "cell_type": "code",
   "execution_count": 111,
   "metadata": {},
   "outputs": [],
   "source": [
    "splitter_ques_gen = TokenTextSplitter(\n",
    "    chunk_size=10000,\n",
    "    chunk_overlap=200\n",
    ")"
   ]
  },
  {
   "cell_type": "code",
   "execution_count": 112,
   "metadata": {},
   "outputs": [],
   "source": [
    "chunk_question_gen = splitter_ques_gen.split_text(question_gen)"
   ]
  },
  {
   "cell_type": "code",
   "execution_count": 113,
   "metadata": {},
   "outputs": [
    {
     "data": {
      "text/plain": [
       "1"
      ]
     },
     "execution_count": 113,
     "metadata": {},
     "output_type": "execute_result"
    }
   ],
   "source": [
    "len(chunk_question_gen)"
   ]
  },
  {
   "cell_type": "code",
   "execution_count": 114,
   "metadata": {},
   "outputs": [
    {
     "data": {
      "text/plain": [
       "str"
      ]
     },
     "execution_count": 114,
     "metadata": {},
     "output_type": "execute_result"
    }
   ],
   "source": [
    "type(chunk_question_gen[0])"
   ]
  },
  {
   "cell_type": "code",
   "execution_count": 115,
   "metadata": {},
   "outputs": [],
   "source": [
    "from langchain.docstore.document import Document"
   ]
  },
  {
   "cell_type": "code",
   "execution_count": 116,
   "metadata": {},
   "outputs": [],
   "source": [
    "document_ques_gen = [Document(page_content=t) for t in chunk_question_gen]"
   ]
  },
  {
   "cell_type": "code",
   "execution_count": 117,
   "metadata": {},
   "outputs": [
    {
     "data": {
      "text/plain": [
       "[Document(metadata={}, page_content='IN THE YEAR 2015, LEADERS FROM 193 COUNTRIES OF THE WORLD \\nCAME TOGETHER TO FACE THE FUTURE.\\nAnd what they saw was daunting. Famines. Drought. Wars. Plagues. Poverty. \\nNot just in some faraway place, but in their own cities and towns and villages.\\nThey knew things didn’t have to be this way. They knew we had enough \\nfood to feed the world, but that it wasn’t getting shared. They knew there \\nwere medicines for HIV and other diseases, but they cost a lot. They knew \\nthat earthquakes and floods were inevitable, but that the high death \\ntolls were not. \\nThey also knew that billions of people worldwide shared their hope for a \\nbetter future.\\nSo leaders from these countries created a plan called the Sustainable \\nDevelopment Goals (SDGs). This set of 17 goals imagines a future just 15 years \\noff that would be rid of poverty and hunger, and safe from the worst effects of \\nclimate change. It’s an ambitious plan. \\nBut there’s ample evidence that we can succeed. In the past 15 years, the \\ninternational community cut extreme poverty in half. \\nNow we can finish the job.\\nThe United Nations Development Programme (UNDP) is one of the leading \\norganizations working to fulfil the SDGs by the year 2030. Present in nearly \\n170 countries and territories, we help nations make the Goals a reality. \\nWe also champion the Goals so that people everywhere know how to \\ndo their part. \\nUNDP is proud to continue as a leader in this global movement.\\nLearn about the Sustainable Development Goals.  What’s your Goal?END EXTREME POVERTY IN ALL FORMS  \\nBY 2030.\\nYes, it’s an ambitious goal—but we believe it can be done. In 2000, the \\nworld committed to halving the number of people living in extreme \\npoverty by the year 2015 and we met this goal. However, more than \\n800 million people around the world still live on less than $1.25 a day—\\nthat’s about the equivalent of the entire population of Europe living in \\nextreme poverty. Now it’s time to build on what we learned and end \\npoverty altogether.END HUNGER, ACHIEVE FOOD SECURITY \\nAND IMPROVED NUTRITION AND PROMOTE \\nSUSTAINABLE AGRICUL TURE\\nIn the past 20 years, hunger has dropped by almost half. Many \\ncountries that used to suffer from famine and hunger can now \\nmeet the nutritional needs of their most vulnerable people. It’s an \\nincredible accomplishment. Now we can go further and end hunger \\nand malnutrition once and for all. That means doing things such as \\npromoting sustainable agriculture and supporting small farmers. It’s a tall \\norder. But for the sake of the nearly 1 out of every 9 people on earth who \\ngo to bed hungry every night, we’ve got to try. Imagine a world where \\neveryone has access to sufficient and nutritious food all year round. \\nTogether, we can make that a reality by 2030.ENSURE HEAL THY LIVES AND PROMOTE \\nWELL-BEING FOR ALL AT ALL AGES\\nWe all know how important it is to be in good health. Our health affects \\neverything from how much we enjoy life to what work we can perform. \\nThat’s why there’s a Goal to make sure everyone has health coverage \\nand access to safe and effective medicines and vaccines. In the 25 \\nyears before the SDGs, we made big strides—preventable child deaths \\ndropped by more than half, and maternal mortality went down by \\nalmost as much. And yet some other numbers remain tragically high, like \\nthe fact that 6 million children die every year before their fifth birthday, \\nor that AIDS is the leading cause of death for adolescents in sub-Saharan \\nAfrica. We have the means to turn that around and make good health \\nmore than just a wish.ENSURE INCLUSIVE AND EQUITABLE QUALITY \\nEDUCATION AND PROMOTE LIFELONG \\nLEARNING OPPORTUNITIES FOR ALL \\nFirst, the bad news on education. Poverty, armed conflict and other \\nemergencies keep many, many kids around the world out of school. In \\nfact, kids from the poorest households are four times more likely to be \\nout of school than those of the richest households. Now for some good \\nnews. Since 2000, there has been enormous progress on the goal to \\nprovide primary education to all children worldwide: the total enrolment \\nrate in developing regions has reached 91%. By measures in any school, \\nthat’s a good grade. Now, let’s get an even better grade for all kids, \\nand achieve the goal of universal primary and secondary education, \\naffordable vocational training, access to higher education and more.We can celebrate the great progress the world has made in becoming \\nmore prosperous and fair. But there’s a shadow to the celebration. In \\njust about every way, women and girls lag behind. There are still gross \\ninequalities in work and wages, lots of unpaid “women’s work” such as \\nchild care and domestic work, and discrimination in public decision-\\nmaking. But there are grounds for hope. More girls are in school now \\ncompared to in 2000. Most regions have reached gender parity in \\nprimary education. The percentage of women getting paid for their work \\nis on the rise. The Sustainable Development Goals aim to build on these \\nachievements to ensure that there is an end to discrimination against \\nwomen and girls everywhere.\\nACHIEVE GENDER EQUALITY AND \\nEMPOWER ALL WOMEN AND GIRLSEveryone on earth should have access to safe and affordable drinking \\nwater. That’s the goal for 2030. While many people take clean drinking \\nwater and sanitation for granted, many others don’t. Water scarcity \\naffects more than 40 percent of people around the world, and that \\nnumber is projected to go even higher as a result of climate change. \\nIf we continue the path we’re on, by 2050 at least one in four people \\nare likely to be affected by recurring water shortages. But we can take \\na new path—more international cooperation, protecting wetlands \\nand rivers, sharing water-treatment technologies—that leads to \\naccomplishing this Goal. \\nENSURE AVAILABILITY AND SUSTAINABLE \\nMANAGEMENT OF WATER AND SANITATION \\nFOR ALLENSURE ACCESS TO AFFORDABLE, RELIABLE, \\nSUSTAINABLE AND MODERN ENERGY FOR \\nALL \\nBetween 1990 and 2010, the number of people with access to electricity \\nincreased by 1.7 billion. That’s progress to be proud of. And yet as the \\nworld’s population continues to rise, still more people will need cheap \\nenergy to light their homes and streets, use phones and computers, \\nand do their everyday business. How we get that energy is at issue; fossil \\nfuels and greenhouse gas emissions are making drastic changes in the \\nclimate, leading to big problems on every continent. Instead, we can \\nbecome more energy-efficient and invest in clean energy sources such \\nas solar and wind. That way we’ll meet electricity needs and protect the \\nenvironment. How’s that for a balancing act?PROMOTE SUSTAINED, INCLUSIVE AND \\nSUSTAINABLE ECONOMIC GROWTH, FULL \\nAND PRODUCTIVE EMPLOYMENT AND \\nDECENT WORK FOR ALL \\nAn important part of economic growth is that people have jobs that \\npay enough to support themselves and their families. The good news \\nis that the middle class is growing worldwide—almost tripling in size \\nin developing countries in the last 25 years, to more than a third of the \\npopulation. But today, job growth is not keeping pace with the growing \\nlabour force. Things don’t have to be that way. We can promote policies \\nthat encourage entrepreneurship and job creation. We can eradicate \\nforced labour, slavery and human trafficking. And in the end we can \\nachieve the goal of decent work for all women and men by 2030.BUILD RESILIENT INFRASTRUCTURE, \\nPROMOTE INCLUSIVE AND SUSTAINABLE \\nINDUSTRIALIZATION AND FOSTER \\nINNOVATION \\nTechnological progress helps us address big global challenges such as \\ncreating jobs and becoming more energy efficient. For example, the \\nworld is becoming ever more interconnected and prosperous thanks to \\nthe internet. The more connected we are, the more we can all benefit \\nfrom the wisdom and contributions of people everywhere on earth.  And \\nyet four billion people have no way of getting online, the vast majority \\nof them in developing countries. The more we invest in innovation \\nand infrastructure, the better off we’ll all be. Bridging the digital divide, \\npromoting sustainable industries, and investing in scientific research and \\ninnovation are all important ways to facilitate sustainable development.REDUCE INEQUALITY WITHIN AND AMONG \\nCOUNTRIES \\nIt’s an old story: the rich get richer, and the poor get poorer. The divide \\nhas never been starker. We can and must adopt policies that create \\nopportunity for everyone, regardless of who they are or where they \\ncome from. Income inequality is a global problem that requires global \\nsolutions. That means improving the regulation of financial markets \\nand institutions, sending development aid where it is most needed \\nand helping people migrate safely so they can pursue opportunities. \\nTogether, we can now change the direction of the old story of inequality.MAKE CITIES AND HUMAN SETTLEMENTS \\nINCLUSIVE, SAFE, RESILIENT AND \\nSUSTAINABLE \\nIf you’re like most people, you live in a city. More than half the world’s \\npopulation now lives in cities, and that figure will go to about two-thirds \\nof humanity by the year 2050. Cities are getting bigger. In 1990 there \\nwere ten “mega-cities” with 10 million inhabitants or more. In 2014, there \\nwere 28 mega-cities, home to 453 million people. Incredible, huh? A lot \\nof people love cities; they’re centers of culture and business and life. The \\nthing is, they’re also often centers of extreme poverty. To make cities \\nsustainable for all, we can create good, affordable public housing. We \\ncan upgrade slum settlements. We can invest in public transport, create \\ngreen spaces, and get a broader range of people involved in urban \\nplanning decisions. That way, we can keep the things we love about \\ncities, and change the things we don’t.ENSURE SUSTAINABLE CONSUMPTION AND \\nPRODUCTION PATTERNS\\nSome people use a lot of stuff, and some people use very little—in fact, \\na big share of the world population is consuming too little to meet even \\ntheir basic needs. Instead, we can have a world where everybody gets \\nwhat they need to survive and thrive. And we can consume in a way \\nthat preserves our natural resources so that our children can enjoy them, \\nand their children and their children after that. The hard part is how to \\nachieve that goal. We can manage our natural resources more efficiently \\nand dispose of toxic waste better. Cut per capita food waste in half \\nglobally. Get businesses and consumers to reduce and recycle waste. \\nAnd help countries that have typically not consumed a lot to move \\ntowards more responsible consumption patterns.TAKE URGENT ACTION TO COMBAT CLIMATE \\nCHANGE AND ITS IMPACTS\\nEvery country in the world is seeing the drastic effects of climate \\nchange, some more than others. On average, the annual losses just \\nfrom earthquakes, tsunamis, tropical cyclones and flooding count in the \\nhundreds of billions of dollars. We can reduce the loss of life and property \\nby helping more vulnerable regions—such as land-locked countries \\nand island states—become more resilient. It is still possible, with the \\npolitical will and technological measures, to limit the increase in global \\nmean temperature to two degrees Celsius above pre-industrial levels—\\nand thus avoid the worst effects of climate change. The Sustainable \\nDevelopment Goals lay out a way for countries to work together to meet \\nthis urgent challenge.CONSERVE AND SUSTAINABLY USE THE \\nOCEANS, SEAS AND MARINE RESOURCES \\nFOR SUSTAINABLE DEVELOPMENT\\nThe oceans make human life possible. Their temperature, their chemistry, \\ntheir currents, their life forms. For one thing, more than 3 billion people \\ndepend on marine and coastal diversity for their livelihoods. But today \\nwe are seeing nearly a third of the world’s fish stocks overexploited. \\nThat’s not a sustainable way of life. Even people who live nowhere near \\nthe ocean can’t live without it. Oceans absorb about 30 percent of the \\ncarbon dioxide that humans produce; but we’re producing more carbon \\ndioxide than ever before and that makes the oceans more acidic—26% \\nmore, since the start of the industrial revolution. Our trash doesn’t help \\neither—13,000 pieces of plastic litter on every square kilometer of ocean. \\nSounds bad, right? Don’t despair! The Sustainable Development Goals \\nindicate targets for managing and protecting life below water.PROTECT, RESTORE AND PROMOTE \\nSUSTAINABLE USE OF TERRESTRIAL \\nECOSYSTEMS, SUSTAINABLY MANAGE \\nFORESTS, COMBAT DESERTIFICATION, AND \\nHAL T AND REVERSE LAND DEGRADATION \\nAND HAL T BIODIVERSITY LOSS \\nHumans and other animals rely on other forms of life on land for food, \\nclean air, clean water, and as a means of combatting climate change. \\nPlant life makes up 80% of the human diet. Forests, which cover 30% \\nof the Earth’s surface, help keep the air and water clean and the Earth’s \\nclimate in balance. That’s not to mention they’re home to millions of \\nanimal species. But the land and life on it are in trouble. Arable land \\nis disappearing 30 to 35 times faster than it has historically. Deserts \\nare spreading. Animal breeds are going extinct. We can turn these \\ntrends around. Fortunately, the Sustainable Development Goals aim to \\nconserve and restore the use of terrestrial ecosystems such as forests, \\nwetlands, drylands and mountains by 2030.PROMOTE PEACEFUL AND INCLUSIVE \\nSOCIETIES FOR SUSTAINABLE \\nDEVELOPMENT, PROVIDE ACCESS TO \\nJUSTICE FOR ALL AND BUILD EFFECTIVE, \\nACCOUNTABLE AND INCLUSIVE \\nINSTITUTIONS AT ALL LEVELS \\nHow can a country develop—how can people eat and teach and learn \\nand work and raise families—without peace? And how can a country \\nhave peace without justice, without human rights, without government \\nbased on the rule of law? Some parts of the world enjoy relative peace \\nand justice, and may come to take it for granted. Other parts seem to \\nbe plagued by armed conflict, crime, torture and exploitation, all of \\nwhich hinders their development. The goal of peace and justice is one \\nfor all countries to strive towards. The Sustainable Development Goals \\naim to reduce all forms of violence and propose that governments \\nand communities find lasting solutions to conflict and insecurity. That \\nmeans strengthening the rule of law, reducing the flow of illicit arms, \\nand bringing developing countries more into the center of institutions \\nof global governance.STRENGTHEN THE MEANS OF \\nIMPLEMENTATION AND REVITALIZE THE \\nGLOBAL PARTNERSHIP FOR SUSTAINABLE \\nDEVELOPMENT \\nThe Sustainable Development Goals are pretty big to-do list, don’t you \\nthink? In fact, it’s so big, you may just want to throw your hands up in the \\nair. “Forget it! Can’t be done! Why even try!” But we’ve got a lot going for \\nus. The world is more interconnected today than ever before, thanks to \\nthe internet, travel and global institutions. There’s a growing consensus \\nabout the need to work together to stop climate change. And the \\nSustainable Development Goals are no small matter either. 193 countries \\nagreed on these goals. Pretty incredible, isn’t it? 193 countries agreeing \\non anything? The final goal lays out a way for nations to work together to \\nachieve all the other Goals.Go shopping \\nMake a donation \\nStart a fundraiser \\nSpread the word \\nVisit shop.undp.org for SDG merchandise, and show off the goals you’re \\nmost passionate about. \\nMoney doesn’t just make the world go around; it’s also the most direct \\nway to reduce and eradicate all forms of poverty.\\nFundraising is a great way to raise money, create awareness, and inspire \\nothers. Plus, it’s fun!\\nSearch for @UNDP on Twitter, Facebook and Instagram, and share the \\ncontent you love.\\nTo donate or learn more about fundraising, visit undp.org/takeaction\\nThere are many ways to show your support and help us reach \\nthe Sustainable Development Goals by 2030. Here are a few :\\nWHA T CAN  \\nI DO TO HELP?NOTESNOTES')]"
      ]
     },
     "execution_count": 117,
     "metadata": {},
     "output_type": "execute_result"
    }
   ],
   "source": [
    "document_ques_gen"
   ]
  },
  {
   "cell_type": "code",
   "execution_count": 118,
   "metadata": {},
   "outputs": [
    {
     "data": {
      "text/plain": [
       "langchain_core.documents.base.Document"
      ]
     },
     "execution_count": 118,
     "metadata": {},
     "output_type": "execute_result"
    }
   ],
   "source": [
    "type(document_ques_gen[0])"
   ]
  },
  {
   "cell_type": "code",
   "execution_count": 119,
   "metadata": {},
   "outputs": [],
   "source": [
    "splitter_ans_gen = TokenTextSplitter(\n",
    "    chunk_size=1000,\n",
    "    chunk_overlap=100\n",
    ")"
   ]
  },
  {
   "cell_type": "code",
   "execution_count": 120,
   "metadata": {},
   "outputs": [],
   "source": [
    "document_ans_gen = splitter_ans_gen.split_documents(\n",
    "    document_ques_gen\n",
    ")"
   ]
  },
  {
   "cell_type": "code",
   "execution_count": 121,
   "metadata": {},
   "outputs": [
    {
     "data": {
      "text/plain": [
       "[Document(metadata={}, page_content='IN THE YEAR 2015, LEADERS FROM 193 COUNTRIES OF THE WORLD \\nCAME TOGETHER TO FACE THE FUTURE.\\nAnd what they saw was daunting. Famines. Drought. Wars. Plagues. Poverty. \\nNot just in some faraway place, but in their own cities and towns and villages.\\nThey knew things didn’t have to be this way. They knew we had enough \\nfood to feed the world, but that it wasn’t getting shared. They knew there \\nwere medicines for HIV and other diseases, but they cost a lot. They knew \\nthat earthquakes and floods were inevitable, but that the high death \\ntolls were not. \\nThey also knew that billions of people worldwide shared their hope for a \\nbetter future.\\nSo leaders from these countries created a plan called the Sustainable \\nDevelopment Goals (SDGs). This set of 17 goals imagines a future just 15 years \\noff that would be rid of poverty and hunger, and safe from the worst effects of \\nclimate change. It’s an ambitious plan. \\nBut there’s ample evidence that we can succeed. In the past 15 years, the \\ninternational community cut extreme poverty in half. \\nNow we can finish the job.\\nThe United Nations Development Programme (UNDP) is one of the leading \\norganizations working to fulfil the SDGs by the year 2030. Present in nearly \\n170 countries and territories, we help nations make the Goals a reality. \\nWe also champion the Goals so that people everywhere know how to \\ndo their part. \\nUNDP is proud to continue as a leader in this global movement.\\nLearn about the Sustainable Development Goals.  What’s your Goal?END EXTREME POVERTY IN ALL FORMS  \\nBY 2030.\\nYes, it’s an ambitious goal—but we believe it can be done. In 2000, the \\nworld committed to halving the number of people living in extreme \\npoverty by the year 2015 and we met this goal. However, more than \\n800 million people around the world still live on less than $1.25 a day—\\nthat’s about the equivalent of the entire population of Europe living in \\nextreme poverty. Now it’s time to build on what we learned and end \\npoverty altogether.END HUNGER, ACHIEVE FOOD SECURITY \\nAND IMPROVED NUTRITION AND PROMOTE \\nSUSTAINABLE AGRICUL TURE\\nIn the past 20 years, hunger has dropped by almost half. Many \\ncountries that used to suffer from famine and hunger can now \\nmeet the nutritional needs of their most vulnerable people. It’s an \\nincredible accomplishment. Now we can go further and end hunger \\nand malnutrition once and for all. That means doing things such as \\npromoting sustainable agriculture and supporting small farmers. It’s a tall \\norder. But for the sake of the nearly 1 out of every 9 people on earth who \\ngo to bed hungry every night, we’ve got to try. Imagine a world where \\neveryone has access to sufficient and nutritious food all year round. \\nTogether, we can make that a reality by 2030.ENSURE HEAL THY LIVES AND PROMOTE \\nWELL-BEING FOR ALL AT ALL AGES\\nWe all know how important it is to be in good health. Our health affects \\neverything from how much we enjoy life to what work we can perform. \\nThat’s why there’s a Goal to make sure everyone has health coverage \\nand access to safe and effective medicines and vaccines. In the 25 \\nyears before the SDGs, we made big strides—preventable child deaths \\ndropped by more than half, and maternal mortality went down by \\nalmost as much. And yet some other numbers remain tragically high, like \\nthe fact that 6 million children die every year before their fifth birthday, \\nor that AIDS is the leading cause of death for adolescents in sub-Saharan \\nAfrica. We have the means to turn that around and make good health \\nmore than just a wish.ENSURE INCLUSIVE AND EQUITABLE QUALITY \\nEDUCATION AND PROMOTE LIFELONG \\nLEARNING OPPORTUNITIES FOR ALL \\nFirst, the bad news on education. Poverty, armed conflict and other \\nemergencies keep many, many kids around the world out of school. In \\nfact, kids from the poorest households are four times more likely to be \\nout of school than'),\n",
       " Document(metadata={}, page_content='\\nmore than just a wish.ENSURE INCLUSIVE AND EQUITABLE QUALITY \\nEDUCATION AND PROMOTE LIFELONG \\nLEARNING OPPORTUNITIES FOR ALL \\nFirst, the bad news on education. Poverty, armed conflict and other \\nemergencies keep many, many kids around the world out of school. In \\nfact, kids from the poorest households are four times more likely to be \\nout of school than those of the richest households. Now for some good \\nnews. Since 2000, there has been enormous progress on the goal to \\nprovide primary education to all children worldwide: the total enrolment \\nrate in developing regions has reached 91%. By measures in any school, \\nthat’s a good grade. Now, let’s get an even better grade for all kids, \\nand achieve the goal of universal primary and secondary education, \\naffordable vocational training, access to higher education and more.We can celebrate the great progress the world has made in becoming \\nmore prosperous and fair. But there’s a shadow to the celebration. In \\njust about every way, women and girls lag behind. There are still gross \\ninequalities in work and wages, lots of unpaid “women’s work” such as \\nchild care and domestic work, and discrimination in public decision-\\nmaking. But there are grounds for hope. More girls are in school now \\ncompared to in 2000. Most regions have reached gender parity in \\nprimary education. The percentage of women getting paid for their work \\nis on the rise. The Sustainable Development Goals aim to build on these \\nachievements to ensure that there is an end to discrimination against \\nwomen and girls everywhere.\\nACHIEVE GENDER EQUALITY AND \\nEMPOWER ALL WOMEN AND GIRLSEveryone on earth should have access to safe and affordable drinking \\nwater. That’s the goal for 2030. While many people take clean drinking \\nwater and sanitation for granted, many others don’t. Water scarcity \\naffects more than 40 percent of people around the world, and that \\nnumber is projected to go even higher as a result of climate change. \\nIf we continue the path we’re on, by 2050 at least one in four people \\nare likely to be affected by recurring water shortages. But we can take \\na new path—more international cooperation, protecting wetlands \\nand rivers, sharing water-treatment technologies—that leads to \\naccomplishing this Goal. \\nENSURE AVAILABILITY AND SUSTAINABLE \\nMANAGEMENT OF WATER AND SANITATION \\nFOR ALLENSURE ACCESS TO AFFORDABLE, RELIABLE, \\nSUSTAINABLE AND MODERN ENERGY FOR \\nALL \\nBetween 1990 and 2010, the number of people with access to electricity \\nincreased by 1.7 billion. That’s progress to be proud of. And yet as the \\nworld’s population continues to rise, still more people will need cheap \\nenergy to light their homes and streets, use phones and computers, \\nand do their everyday business. How we get that energy is at issue; fossil \\nfuels and greenhouse gas emissions are making drastic changes in the \\nclimate, leading to big problems on every continent. Instead, we can \\nbecome more energy-efficient and invest in clean energy sources such \\nas solar and wind. That way we’ll meet electricity needs and protect the \\nenvironment. How’s that for a balancing act?PROMOTE SUSTAINED, INCLUSIVE AND \\nSUSTAINABLE ECONOMIC GROWTH, FULL \\nAND PRODUCTIVE EMPLOYMENT AND \\nDECENT WORK FOR ALL \\nAn important part of economic growth is that people have jobs that \\npay enough to support themselves and their families. The good news \\nis that the middle class is growing worldwide—almost tripling in size \\nin developing countries in the last 25 years, to more than a third of the \\npopulation. But today, job growth is not keeping pace with the growing \\nlabour force. Things don’t have to be that way. We can promote policies \\nthat encourage entrepreneurship and job creation. We can eradicate \\nforced labour, slavery and human trafficking. And in the end we can \\nachieve the goal of decent work for all women and men by 2030.BUILD RESILIENT INFRASTRUCTURE, \\nPROMOTE INCLUSIVE AND SUSTAINABLE \\nINDUSTRIALIZ'),\n",
       " Document(metadata={}, page_content=' the growing \\nlabour force. Things don’t have to be that way. We can promote policies \\nthat encourage entrepreneurship and job creation. We can eradicate \\nforced labour, slavery and human trafficking. And in the end we can \\nachieve the goal of decent work for all women and men by 2030.BUILD RESILIENT INFRASTRUCTURE, \\nPROMOTE INCLUSIVE AND SUSTAINABLE \\nINDUSTRIALIZATION AND FOSTER \\nINNOVATION \\nTechnological progress helps us address big global challenges such as \\ncreating jobs and becoming more energy efficient. For example, the \\nworld is becoming ever more interconnected and prosperous thanks to \\nthe internet. The more connected we are, the more we can all benefit \\nfrom the wisdom and contributions of people everywhere on earth.  And \\nyet four billion people have no way of getting online, the vast majority \\nof them in developing countries. The more we invest in innovation \\nand infrastructure, the better off we’ll all be. Bridging the digital divide, \\npromoting sustainable industries, and investing in scientific research and \\ninnovation are all important ways to facilitate sustainable development.REDUCE INEQUALITY WITHIN AND AMONG \\nCOUNTRIES \\nIt’s an old story: the rich get richer, and the poor get poorer. The divide \\nhas never been starker. We can and must adopt policies that create \\nopportunity for everyone, regardless of who they are or where they \\ncome from. Income inequality is a global problem that requires global \\nsolutions. That means improving the regulation of financial markets \\nand institutions, sending development aid where it is most needed \\nand helping people migrate safely so they can pursue opportunities. \\nTogether, we can now change the direction of the old story of inequality.MAKE CITIES AND HUMAN SETTLEMENTS \\nINCLUSIVE, SAFE, RESILIENT AND \\nSUSTAINABLE \\nIf you’re like most people, you live in a city. More than half the world’s \\npopulation now lives in cities, and that figure will go to about two-thirds \\nof humanity by the year 2050. Cities are getting bigger. In 1990 there \\nwere ten “mega-cities” with 10 million inhabitants or more. In 2014, there \\nwere 28 mega-cities, home to 453 million people. Incredible, huh? A lot \\nof people love cities; they’re centers of culture and business and life. The \\nthing is, they’re also often centers of extreme poverty. To make cities \\nsustainable for all, we can create good, affordable public housing. We \\ncan upgrade slum settlements. We can invest in public transport, create \\ngreen spaces, and get a broader range of people involved in urban \\nplanning decisions. That way, we can keep the things we love about \\ncities, and change the things we don’t.ENSURE SUSTAINABLE CONSUMPTION AND \\nPRODUCTION PATTERNS\\nSome people use a lot of stuff, and some people use very little—in fact, \\na big share of the world population is consuming too little to meet even \\ntheir basic needs. Instead, we can have a world where everybody gets \\nwhat they need to survive and thrive. And we can consume in a way \\nthat preserves our natural resources so that our children can enjoy them, \\nand their children and their children after that. The hard part is how to \\nachieve that goal. We can manage our natural resources more efficiently \\nand dispose of toxic waste better. Cut per capita food waste in half \\nglobally. Get businesses and consumers to reduce and recycle waste. \\nAnd help countries that have typically not consumed a lot to move \\ntowards more responsible consumption patterns.TAKE URGENT ACTION TO COMBAT CLIMATE \\nCHANGE AND ITS IMPACTS\\nEvery country in the world is seeing the drastic effects of climate \\nchange, some more than others. On average, the annual losses just \\nfrom earthquakes, tsunamis, tropical cyclones and flooding count in the \\nhundreds of billions of dollars. We can reduce the loss of life and property \\nby helping more vulnerable regions—such as land-locked countries \\nand island states—become more resilient. It is still possible, with the \\npolitical will and technological measures, to limit the increase in global \\nmean temperature to two degrees Celsius above pre-industrial levels—\\nand thus avoid the worst effects'),\n",
       " Document(metadata={}, page_content='from earthquakes, tsunamis, tropical cyclones and flooding count in the \\nhundreds of billions of dollars. We can reduce the loss of life and property \\nby helping more vulnerable regions—such as land-locked countries \\nand island states—become more resilient. It is still possible, with the \\npolitical will and technological measures, to limit the increase in global \\nmean temperature to two degrees Celsius above pre-industrial levels—\\nand thus avoid the worst effects of climate change. The Sustainable \\nDevelopment Goals lay out a way for countries to work together to meet \\nthis urgent challenge.CONSERVE AND SUSTAINABLY USE THE \\nOCEANS, SEAS AND MARINE RESOURCES \\nFOR SUSTAINABLE DEVELOPMENT\\nThe oceans make human life possible. Their temperature, their chemistry, \\ntheir currents, their life forms. For one thing, more than 3 billion people \\ndepend on marine and coastal diversity for their livelihoods. But today \\nwe are seeing nearly a third of the world’s fish stocks overexploited. \\nThat’s not a sustainable way of life. Even people who live nowhere near \\nthe ocean can’t live without it. Oceans absorb about 30 percent of the \\ncarbon dioxide that humans produce; but we’re producing more carbon \\ndioxide than ever before and that makes the oceans more acidic—26% \\nmore, since the start of the industrial revolution. Our trash doesn’t help \\neither—13,000 pieces of plastic litter on every square kilometer of ocean. \\nSounds bad, right? Don’t despair! The Sustainable Development Goals \\nindicate targets for managing and protecting life below water.PROTECT, RESTORE AND PROMOTE \\nSUSTAINABLE USE OF TERRESTRIAL \\nECOSYSTEMS, SUSTAINABLY MANAGE \\nFORESTS, COMBAT DESERTIFICATION, AND \\nHAL T AND REVERSE LAND DEGRADATION \\nAND HAL T BIODIVERSITY LOSS \\nHumans and other animals rely on other forms of life on land for food, \\nclean air, clean water, and as a means of combatting climate change. \\nPlant life makes up 80% of the human diet. Forests, which cover 30% \\nof the Earth’s surface, help keep the air and water clean and the Earth’s \\nclimate in balance. That’s not to mention they’re home to millions of \\nanimal species. But the land and life on it are in trouble. Arable land \\nis disappearing 30 to 35 times faster than it has historically. Deserts \\nare spreading. Animal breeds are going extinct. We can turn these \\ntrends around. Fortunately, the Sustainable Development Goals aim to \\nconserve and restore the use of terrestrial ecosystems such as forests, \\nwetlands, drylands and mountains by 2030.PROMOTE PEACEFUL AND INCLUSIVE \\nSOCIETIES FOR SUSTAINABLE \\nDEVELOPMENT, PROVIDE ACCESS TO \\nJUSTICE FOR ALL AND BUILD EFFECTIVE, \\nACCOUNTABLE AND INCLUSIVE \\nINSTITUTIONS AT ALL LEVELS \\nHow can a country develop—how can people eat and teach and learn \\nand work and raise families—without peace? And how can a country \\nhave peace without justice, without human rights, without government \\nbased on the rule of law? Some parts of the world enjoy relative peace \\nand justice, and may come to take it for granted. Other parts seem to \\nbe plagued by armed conflict, crime, torture and exploitation, all of \\nwhich hinders their development. The goal of peace and justice is one \\nfor all countries to strive towards. The Sustainable Development Goals \\naim to reduce all forms of violence and propose that governments \\nand communities find lasting solutions to conflict and insecurity. That \\nmeans strengthening the rule of law, reducing the flow of illicit arms, \\nand bringing developing countries more into the center of institutions \\nof global governance.STRENGTHEN THE MEANS OF \\nIMPLEMENTATION AND REVITALIZE THE \\nGLOBAL PARTNERSHIP FOR SUSTAINABLE \\nDEVELOPMENT \\nThe Sustainable Development Goals are pretty big to-do list, don’t you \\nthink? In fact, it’s so big, you may just want to throw your hands up in the \\nair. “Forget it! Can’t be done! Why even try'),\n",
       " Document(metadata={}, page_content=' MEANS OF \\nIMPLEMENTATION AND REVITALIZE THE \\nGLOBAL PARTNERSHIP FOR SUSTAINABLE \\nDEVELOPMENT \\nThe Sustainable Development Goals are pretty big to-do list, don’t you \\nthink? In fact, it’s so big, you may just want to throw your hands up in the \\nair. “Forget it! Can’t be done! Why even try!” But we’ve got a lot going for \\nus. The world is more interconnected today than ever before, thanks to \\nthe internet, travel and global institutions. There’s a growing consensus \\nabout the need to work together to stop climate change. And the \\nSustainable Development Goals are no small matter either. 193 countries \\nagreed on these goals. Pretty incredible, isn’t it? 193 countries agreeing \\non anything? The final goal lays out a way for nations to work together to \\nachieve all the other Goals.Go shopping \\nMake a donation \\nStart a fundraiser \\nSpread the word \\nVisit shop.undp.org for SDG merchandise, and show off the goals you’re \\nmost passionate about. \\nMoney doesn’t just make the world go around; it’s also the most direct \\nway to reduce and eradicate all forms of poverty.\\nFundraising is a great way to raise money, create awareness, and inspire \\nothers. Plus, it’s fun!\\nSearch for @UNDP on Twitter, Facebook and Instagram, and share the \\ncontent you love.\\nTo donate or learn more about fundraising, visit undp.org/takeaction\\nThere are many ways to show your support and help us reach \\nthe Sustainable Development Goals by 2030. Here are a few :\\nWHA T CAN  \\nI DO TO HELP?NOTESNOTES')]"
      ]
     },
     "execution_count": 121,
     "metadata": {},
     "output_type": "execute_result"
    }
   ],
   "source": [
    "document_ans_gen"
   ]
  },
  {
   "cell_type": "code",
   "execution_count": 122,
   "metadata": {},
   "outputs": [
    {
     "data": {
      "text/plain": [
       "5"
      ]
     },
     "execution_count": 122,
     "metadata": {},
     "output_type": "execute_result"
    }
   ],
   "source": [
    "len(document_ans_gen)"
   ]
  },
  {
   "cell_type": "code",
   "execution_count": 123,
   "metadata": {},
   "outputs": [],
   "source": [
    "from langchain_groq import ChatGroq"
   ]
  },
  {
   "cell_type": "code",
   "execution_count": 124,
   "metadata": {},
   "outputs": [],
   "source": [
    "llm_ques_gen_pipeline = ChatGroq(\n",
    "    model_name=\"llama-3.3-70b-versatile\",\n",
    "    temperature=0.7\n",
    "      )"
   ]
  },
  {
   "cell_type": "code",
   "execution_count": 85,
   "metadata": {},
   "outputs": [],
   "source": [
    "# prompt_template = \"\"\"\n",
    "# You are an expert at creating 10 questions based on coding materials and documentation.\n",
    "# Your goal is to prepare a coder or programmer for their exam and coding tests.\n",
    "# You do this by asking questions about the text below:\n",
    "\n",
    "# ------------\n",
    "# {text}\n",
    "# ------------\n",
    "\n",
    "# Create questions that will prepare the coders or programmers for their tests.\n",
    "# Make sure not to lose any important information.\n",
    "\n",
    "# QUESTIONS:\n",
    "# \"\"\""
   ]
  },
  {
   "cell_type": "code",
   "execution_count": 125,
   "metadata": {},
   "outputs": [],
   "source": [
    "prompt_template = \"\"\"\n",
    "You are an expert at generating **concise coding questions and answers**.  \n",
    "Your task is to create **exactly 4-5 short questions** based on the given text.  \n",
    "Each question should test understanding, and **each answer should be 2-3 sentences long**.\n",
    "\n",
    "------------\n",
    "{text}\n",
    "------------\n",
    "\n",
    "### **Output Format:**\n",
    "Q1: [Question]  \n",
    "A1: [Short Answer]  \n",
    "\n",
    "Q2: [Question]  \n",
    "A2: [Short Answer]  \n",
    "\n",
    "Q3: [Question]  \n",
    "A3: [Short Answer]  \n",
    "\n",
    "Q4: [Question]  \n",
    "A4: [Short Answer]  \n",
    "\n",
    "Q5: [Question]  \n",
    "A5: [Short Answer]  \n",
    "\n",
    "### **Now, generate the questions and answers below:**\n",
    "\"\"\"\n"
   ]
  },
  {
   "cell_type": "code",
   "execution_count": 126,
   "metadata": {},
   "outputs": [],
   "source": [
    "from langchain.prompts import PromptTemplate"
   ]
  },
  {
   "cell_type": "code",
   "execution_count": 127,
   "metadata": {},
   "outputs": [],
   "source": [
    "PROMPT_QUESTION = PromptTemplate(\n",
    "    template= prompt_template,\n",
    "    input_variables=['text']\n",
    ")"
   ]
  },
  {
   "cell_type": "code",
   "execution_count": 128,
   "metadata": {},
   "outputs": [],
   "source": [
    "# refine_template = (\"\"\"\n",
    "# You are an expert at creating practice questions based on coding material and documentation.\n",
    "# Your goal is to help a coder or programmer prepare for a coding test.\n",
    "# We have received some practice questions to a certain extent: {existing_answer}.\n",
    "# We have the option to refine the existing questions or add new ones.\n",
    "# (only if necessary) with some more context below.\n",
    "# ------------\n",
    "# {text}\n",
    "# ------------\n",
    "\n",
    "# Given the new context, refine the original questions in English.\n",
    "# If the context is not helpful, please provide the original questions.\n",
    "# QUESTIONS:\n",
    "# \"\"\"\n",
    "# )"
   ]
  },
  {
   "cell_type": "code",
   "execution_count": 129,
   "metadata": {},
   "outputs": [],
   "source": [
    "refine_template = \"\"\"\n",
    "You are an expert in **refining coding questions and answers**.  \n",
    "We already have some questions:  \n",
    "{existing_answer}  \n",
    "\n",
    "Now, we have additional context:\n",
    "\n",
    "------------\n",
    "{text}\n",
    "------------\n",
    "\n",
    "Please **improve or adjust** the existing questions based on the new information.  \n",
    "Make sure to keep **each answer concise (2-3 sentences only).**  \n",
    "If the new context is irrelevant, return the original set of questions.\n",
    "\n",
    "### **Updated Questions & Answers:**\n",
    "\"\"\"\n"
   ]
  },
  {
   "cell_type": "code",
   "execution_count": 130,
   "metadata": {},
   "outputs": [],
   "source": [
    "REFINE_PROMPT_QUESTION = PromptTemplate(\n",
    "    input_variables=['existing','text'],\n",
    "    template = refine_template\n",
    ")"
   ]
  },
  {
   "cell_type": "code",
   "execution_count": 131,
   "metadata": {},
   "outputs": [],
   "source": [
    "from langchain.chains.summarize import load_summarize_chain"
   ]
  },
  {
   "cell_type": "code",
   "execution_count": 132,
   "metadata": {},
   "outputs": [],
   "source": [
    "ques_gen_chain = load_summarize_chain(\n",
    "    llm = llm_ques_gen_pipeline,\n",
    "    chain_type=\"refine\",\n",
    "    verbose = True,\n",
    "    question_prompt = PROMPT_QUESTION,\n",
    "    refine_prompt = REFINE_PROMPT_QUESTION\n",
    ")"
   ]
  },
  {
   "cell_type": "code",
   "execution_count": 133,
   "metadata": {},
   "outputs": [
    {
     "name": "stdout",
     "output_type": "stream",
     "text": [
      "\n",
      "\n",
      "\u001b[1m> Entering new RefineDocumentsChain chain...\u001b[0m\n",
      "\n",
      "\n",
      "\u001b[1m> Entering new LLMChain chain...\u001b[0m\n",
      "Prompt after formatting:\n",
      "\u001b[32;1m\u001b[1;3m\n",
      "You are an expert at generating **concise coding questions and answers**.  \n",
      "Your task is to create **exactly 4-5 short questions** based on the given text.  \n",
      "Each question should test understanding, and **each answer should be 2-3 sentences long**.\n",
      "\n",
      "------------\n",
      "IN THE YEAR 2015, LEADERS FROM 193 COUNTRIES OF THE WORLD \n",
      "CAME TOGETHER TO FACE THE FUTURE.\n",
      "And what they saw was daunting. Famines. Drought. Wars. Plagues. Poverty. \n",
      "Not just in some faraway place, but in their own cities and towns and villages.\n",
      "They knew things didn’t have to be this way. They knew we had enough \n",
      "food to feed the world, but that it wasn’t getting shared. They knew there \n",
      "were medicines for HIV and other diseases, but they cost a lot. They knew \n",
      "that earthquakes and floods were inevitable, but that the high death \n",
      "tolls were not. \n",
      "They also knew that billions of people worldwide shared their hope for a \n",
      "better future.\n",
      "So leaders from these countries created a plan called the Sustainable \n",
      "Development Goals (SDGs). This set of 17 goals imagines a future just 15 years \n",
      "off that would be rid of poverty and hunger, and safe from the worst effects of \n",
      "climate change. It’s an ambitious plan. \n",
      "But there’s ample evidence that we can succeed. In the past 15 years, the \n",
      "international community cut extreme poverty in half. \n",
      "Now we can finish the job.\n",
      "The United Nations Development Programme (UNDP) is one of the leading \n",
      "organizations working to fulfil the SDGs by the year 2030. Present in nearly \n",
      "170 countries and territories, we help nations make the Goals a reality. \n",
      "We also champion the Goals so that people everywhere know how to \n",
      "do their part. \n",
      "UNDP is proud to continue as a leader in this global movement.\n",
      "Learn about the Sustainable Development Goals.  What’s your Goal?END EXTREME POVERTY IN ALL FORMS  \n",
      "BY 2030.\n",
      "Yes, it’s an ambitious goal—but we believe it can be done. In 2000, the \n",
      "world committed to halving the number of people living in extreme \n",
      "poverty by the year 2015 and we met this goal. However, more than \n",
      "800 million people around the world still live on less than $1.25 a day—\n",
      "that’s about the equivalent of the entire population of Europe living in \n",
      "extreme poverty. Now it’s time to build on what we learned and end \n",
      "poverty altogether.END HUNGER, ACHIEVE FOOD SECURITY \n",
      "AND IMPROVED NUTRITION AND PROMOTE \n",
      "SUSTAINABLE AGRICUL TURE\n",
      "In the past 20 years, hunger has dropped by almost half. Many \n",
      "countries that used to suffer from famine and hunger can now \n",
      "meet the nutritional needs of their most vulnerable people. It’s an \n",
      "incredible accomplishment. Now we can go further and end hunger \n",
      "and malnutrition once and for all. That means doing things such as \n",
      "promoting sustainable agriculture and supporting small farmers. It’s a tall \n",
      "order. But for the sake of the nearly 1 out of every 9 people on earth who \n",
      "go to bed hungry every night, we’ve got to try. Imagine a world where \n",
      "everyone has access to sufficient and nutritious food all year round. \n",
      "Together, we can make that a reality by 2030.ENSURE HEAL THY LIVES AND PROMOTE \n",
      "WELL-BEING FOR ALL AT ALL AGES\n",
      "We all know how important it is to be in good health. Our health affects \n",
      "everything from how much we enjoy life to what work we can perform. \n",
      "That’s why there’s a Goal to make sure everyone has health coverage \n",
      "and access to safe and effective medicines and vaccines. In the 25 \n",
      "years before the SDGs, we made big strides—preventable child deaths \n",
      "dropped by more than half, and maternal mortality went down by \n",
      "almost as much. And yet some other numbers remain tragically high, like \n",
      "the fact that 6 million children die every year before their fifth birthday, \n",
      "or that AIDS is the leading cause of death for adolescents in sub-Saharan \n",
      "Africa. We have the means to turn that around and make good health \n",
      "more than just a wish.ENSURE INCLUSIVE AND EQUITABLE QUALITY \n",
      "EDUCATION AND PROMOTE LIFELONG \n",
      "LEARNING OPPORTUNITIES FOR ALL \n",
      "First, the bad news on education. Poverty, armed conflict and other \n",
      "emergencies keep many, many kids around the world out of school. In \n",
      "fact, kids from the poorest households are four times more likely to be \n",
      "out of school than those of the richest households. Now for some good \n",
      "news. Since 2000, there has been enormous progress on the goal to \n",
      "provide primary education to all children worldwide: the total enrolment \n",
      "rate in developing regions has reached 91%. By measures in any school, \n",
      "that’s a good grade. Now, let’s get an even better grade for all kids, \n",
      "and achieve the goal of universal primary and secondary education, \n",
      "affordable vocational training, access to higher education and more.We can celebrate the great progress the world has made in becoming \n",
      "more prosperous and fair. But there’s a shadow to the celebration. In \n",
      "just about every way, women and girls lag behind. There are still gross \n",
      "inequalities in work and wages, lots of unpaid “women’s work” such as \n",
      "child care and domestic work, and discrimination in public decision-\n",
      "making. But there are grounds for hope. More girls are in school now \n",
      "compared to in 2000. Most regions have reached gender parity in \n",
      "primary education. The percentage of women getting paid for their work \n",
      "is on the rise. The Sustainable Development Goals aim to build on these \n",
      "achievements to ensure that there is an end to discrimination against \n",
      "women and girls everywhere.\n",
      "ACHIEVE GENDER EQUALITY AND \n",
      "EMPOWER ALL WOMEN AND GIRLSEveryone on earth should have access to safe and affordable drinking \n",
      "water. That’s the goal for 2030. While many people take clean drinking \n",
      "water and sanitation for granted, many others don’t. Water scarcity \n",
      "affects more than 40 percent of people around the world, and that \n",
      "number is projected to go even higher as a result of climate change. \n",
      "If we continue the path we’re on, by 2050 at least one in four people \n",
      "are likely to be affected by recurring water shortages. But we can take \n",
      "a new path—more international cooperation, protecting wetlands \n",
      "and rivers, sharing water-treatment technologies—that leads to \n",
      "accomplishing this Goal. \n",
      "ENSURE AVAILABILITY AND SUSTAINABLE \n",
      "MANAGEMENT OF WATER AND SANITATION \n",
      "FOR ALLENSURE ACCESS TO AFFORDABLE, RELIABLE, \n",
      "SUSTAINABLE AND MODERN ENERGY FOR \n",
      "ALL \n",
      "Between 1990 and 2010, the number of people with access to electricity \n",
      "increased by 1.7 billion. That’s progress to be proud of. And yet as the \n",
      "world’s population continues to rise, still more people will need cheap \n",
      "energy to light their homes and streets, use phones and computers, \n",
      "and do their everyday business. How we get that energy is at issue; fossil \n",
      "fuels and greenhouse gas emissions are making drastic changes in the \n",
      "climate, leading to big problems on every continent. Instead, we can \n",
      "become more energy-efficient and invest in clean energy sources such \n",
      "as solar and wind. That way we’ll meet electricity needs and protect the \n",
      "environment. How’s that for a balancing act?PROMOTE SUSTAINED, INCLUSIVE AND \n",
      "SUSTAINABLE ECONOMIC GROWTH, FULL \n",
      "AND PRODUCTIVE EMPLOYMENT AND \n",
      "DECENT WORK FOR ALL \n",
      "An important part of economic growth is that people have jobs that \n",
      "pay enough to support themselves and their families. The good news \n",
      "is that the middle class is growing worldwide—almost tripling in size \n",
      "in developing countries in the last 25 years, to more than a third of the \n",
      "population. But today, job growth is not keeping pace with the growing \n",
      "labour force. Things don’t have to be that way. We can promote policies \n",
      "that encourage entrepreneurship and job creation. We can eradicate \n",
      "forced labour, slavery and human trafficking. And in the end we can \n",
      "achieve the goal of decent work for all women and men by 2030.BUILD RESILIENT INFRASTRUCTURE, \n",
      "PROMOTE INCLUSIVE AND SUSTAINABLE \n",
      "INDUSTRIALIZATION AND FOSTER \n",
      "INNOVATION \n",
      "Technological progress helps us address big global challenges such as \n",
      "creating jobs and becoming more energy efficient. For example, the \n",
      "world is becoming ever more interconnected and prosperous thanks to \n",
      "the internet. The more connected we are, the more we can all benefit \n",
      "from the wisdom and contributions of people everywhere on earth.  And \n",
      "yet four billion people have no way of getting online, the vast majority \n",
      "of them in developing countries. The more we invest in innovation \n",
      "and infrastructure, the better off we’ll all be. Bridging the digital divide, \n",
      "promoting sustainable industries, and investing in scientific research and \n",
      "innovation are all important ways to facilitate sustainable development.REDUCE INEQUALITY WITHIN AND AMONG \n",
      "COUNTRIES \n",
      "It’s an old story: the rich get richer, and the poor get poorer. The divide \n",
      "has never been starker. We can and must adopt policies that create \n",
      "opportunity for everyone, regardless of who they are or where they \n",
      "come from. Income inequality is a global problem that requires global \n",
      "solutions. That means improving the regulation of financial markets \n",
      "and institutions, sending development aid where it is most needed \n",
      "and helping people migrate safely so they can pursue opportunities. \n",
      "Together, we can now change the direction of the old story of inequality.MAKE CITIES AND HUMAN SETTLEMENTS \n",
      "INCLUSIVE, SAFE, RESILIENT AND \n",
      "SUSTAINABLE \n",
      "If you’re like most people, you live in a city. More than half the world’s \n",
      "population now lives in cities, and that figure will go to about two-thirds \n",
      "of humanity by the year 2050. Cities are getting bigger. In 1990 there \n",
      "were ten “mega-cities” with 10 million inhabitants or more. In 2014, there \n",
      "were 28 mega-cities, home to 453 million people. Incredible, huh? A lot \n",
      "of people love cities; they’re centers of culture and business and life. The \n",
      "thing is, they’re also often centers of extreme poverty. To make cities \n",
      "sustainable for all, we can create good, affordable public housing. We \n",
      "can upgrade slum settlements. We can invest in public transport, create \n",
      "green spaces, and get a broader range of people involved in urban \n",
      "planning decisions. That way, we can keep the things we love about \n",
      "cities, and change the things we don’t.ENSURE SUSTAINABLE CONSUMPTION AND \n",
      "PRODUCTION PATTERNS\n",
      "Some people use a lot of stuff, and some people use very little—in fact, \n",
      "a big share of the world population is consuming too little to meet even \n",
      "their basic needs. Instead, we can have a world where everybody gets \n",
      "what they need to survive and thrive. And we can consume in a way \n",
      "that preserves our natural resources so that our children can enjoy them, \n",
      "and their children and their children after that. The hard part is how to \n",
      "achieve that goal. We can manage our natural resources more efficiently \n",
      "and dispose of toxic waste better. Cut per capita food waste in half \n",
      "globally. Get businesses and consumers to reduce and recycle waste. \n",
      "And help countries that have typically not consumed a lot to move \n",
      "towards more responsible consumption patterns.TAKE URGENT ACTION TO COMBAT CLIMATE \n",
      "CHANGE AND ITS IMPACTS\n",
      "Every country in the world is seeing the drastic effects of climate \n",
      "change, some more than others. On average, the annual losses just \n",
      "from earthquakes, tsunamis, tropical cyclones and flooding count in the \n",
      "hundreds of billions of dollars. We can reduce the loss of life and property \n",
      "by helping more vulnerable regions—such as land-locked countries \n",
      "and island states—become more resilient. It is still possible, with the \n",
      "political will and technological measures, to limit the increase in global \n",
      "mean temperature to two degrees Celsius above pre-industrial levels—\n",
      "and thus avoid the worst effects of climate change. The Sustainable \n",
      "Development Goals lay out a way for countries to work together to meet \n",
      "this urgent challenge.CONSERVE AND SUSTAINABLY USE THE \n",
      "OCEANS, SEAS AND MARINE RESOURCES \n",
      "FOR SUSTAINABLE DEVELOPMENT\n",
      "The oceans make human life possible. Their temperature, their chemistry, \n",
      "their currents, their life forms. For one thing, more than 3 billion people \n",
      "depend on marine and coastal diversity for their livelihoods. But today \n",
      "we are seeing nearly a third of the world’s fish stocks overexploited. \n",
      "That’s not a sustainable way of life. Even people who live nowhere near \n",
      "the ocean can’t live without it. Oceans absorb about 30 percent of the \n",
      "carbon dioxide that humans produce; but we’re producing more carbon \n",
      "dioxide than ever before and that makes the oceans more acidic—26% \n",
      "more, since the start of the industrial revolution. Our trash doesn’t help \n",
      "either—13,000 pieces of plastic litter on every square kilometer of ocean. \n",
      "Sounds bad, right? Don’t despair! The Sustainable Development Goals \n",
      "indicate targets for managing and protecting life below water.PROTECT, RESTORE AND PROMOTE \n",
      "SUSTAINABLE USE OF TERRESTRIAL \n",
      "ECOSYSTEMS, SUSTAINABLY MANAGE \n",
      "FORESTS, COMBAT DESERTIFICATION, AND \n",
      "HAL T AND REVERSE LAND DEGRADATION \n",
      "AND HAL T BIODIVERSITY LOSS \n",
      "Humans and other animals rely on other forms of life on land for food, \n",
      "clean air, clean water, and as a means of combatting climate change. \n",
      "Plant life makes up 80% of the human diet. Forests, which cover 30% \n",
      "of the Earth’s surface, help keep the air and water clean and the Earth’s \n",
      "climate in balance. That’s not to mention they’re home to millions of \n",
      "animal species. But the land and life on it are in trouble. Arable land \n",
      "is disappearing 30 to 35 times faster than it has historically. Deserts \n",
      "are spreading. Animal breeds are going extinct. We can turn these \n",
      "trends around. Fortunately, the Sustainable Development Goals aim to \n",
      "conserve and restore the use of terrestrial ecosystems such as forests, \n",
      "wetlands, drylands and mountains by 2030.PROMOTE PEACEFUL AND INCLUSIVE \n",
      "SOCIETIES FOR SUSTAINABLE \n",
      "DEVELOPMENT, PROVIDE ACCESS TO \n",
      "JUSTICE FOR ALL AND BUILD EFFECTIVE, \n",
      "ACCOUNTABLE AND INCLUSIVE \n",
      "INSTITUTIONS AT ALL LEVELS \n",
      "How can a country develop—how can people eat and teach and learn \n",
      "and work and raise families—without peace? And how can a country \n",
      "have peace without justice, without human rights, without government \n",
      "based on the rule of law? Some parts of the world enjoy relative peace \n",
      "and justice, and may come to take it for granted. Other parts seem to \n",
      "be plagued by armed conflict, crime, torture and exploitation, all of \n",
      "which hinders their development. The goal of peace and justice is one \n",
      "for all countries to strive towards. The Sustainable Development Goals \n",
      "aim to reduce all forms of violence and propose that governments \n",
      "and communities find lasting solutions to conflict and insecurity. That \n",
      "means strengthening the rule of law, reducing the flow of illicit arms, \n",
      "and bringing developing countries more into the center of institutions \n",
      "of global governance.STRENGTHEN THE MEANS OF \n",
      "IMPLEMENTATION AND REVITALIZE THE \n",
      "GLOBAL PARTNERSHIP FOR SUSTAINABLE \n",
      "DEVELOPMENT \n",
      "The Sustainable Development Goals are pretty big to-do list, don’t you \n",
      "think? In fact, it’s so big, you may just want to throw your hands up in the \n",
      "air. “Forget it! Can’t be done! Why even try!” But we’ve got a lot going for \n",
      "us. The world is more interconnected today than ever before, thanks to \n",
      "the internet, travel and global institutions. There’s a growing consensus \n",
      "about the need to work together to stop climate change. And the \n",
      "Sustainable Development Goals are no small matter either. 193 countries \n",
      "agreed on these goals. Pretty incredible, isn’t it? 193 countries agreeing \n",
      "on anything? The final goal lays out a way for nations to work together to \n",
      "achieve all the other Goals.Go shopping \n",
      "Make a donation \n",
      "Start a fundraiser \n",
      "Spread the word \n",
      "Visit shop.undp.org for SDG merchandise, and show off the goals you’re \n",
      "most passionate about. \n",
      "Money doesn’t just make the world go around; it’s also the most direct \n",
      "way to reduce and eradicate all forms of poverty.\n",
      "Fundraising is a great way to raise money, create awareness, and inspire \n",
      "others. Plus, it’s fun!\n",
      "Search for @UNDP on Twitter, Facebook and Instagram, and share the \n",
      "content you love.\n",
      "To donate or learn more about fundraising, visit undp.org/takeaction\n",
      "There are many ways to show your support and help us reach \n",
      "the Sustainable Development Goals by 2030. Here are a few :\n",
      "WHA T CAN  \n",
      "I DO TO HELP?NOTESNOTES\n",
      "------------\n",
      "\n",
      "### **Output Format:**\n",
      "Q1: [Question]  \n",
      "A1: [Short Answer]  \n",
      "\n",
      "Q2: [Question]  \n",
      "A2: [Short Answer]  \n",
      "\n",
      "Q3: [Question]  \n",
      "A3: [Short Answer]  \n",
      "\n",
      "Q4: [Question]  \n",
      "A4: [Short Answer]  \n",
      "\n",
      "Q5: [Question]  \n",
      "A5: [Short Answer]  \n",
      "\n",
      "### **Now, generate the questions and answers below:**\n",
      "\u001b[0m\n",
      "\n",
      "\u001b[1m> Finished chain.\u001b[0m\n",
      "\n",
      "\u001b[1m> Finished chain.\u001b[0m\n",
      "Q1: What is the main goal of the Sustainable Development Goals (SDGs) created by leaders from 193 countries in 2015?\n",
      "A1: The main goal of the SDGs is to imagine a future just 15 years off that would be rid of poverty and hunger, and safe from the worst effects of climate change. This set of 17 goals aims to achieve a better future for all by 2030. The SDGs are an ambitious plan, but there's ample evidence that they can be succeeded.\n",
      "\n",
      "Q2: What progress has been made in reducing extreme poverty and hunger worldwide?\n",
      "A2: The international community has made significant progress in reducing extreme poverty, cutting it in half over the past 15 years. However, more than 800 million people still live on less than $1.25 a day, and hunger affects one out of every nine people on earth. Despite this, many countries have made progress in meeting the nutritional needs of their most vulnerable people.\n",
      "\n",
      "Q3: What are some of the key areas of focus for achieving the Sustainable Development Goals, particularly in terms of health and education?\n",
      "A3: The SDGs focus on several key areas, including ensuring healthy lives and promoting well-being for all, as well as providing inclusive and equitable quality education. This includes achieving universal health coverage, reducing child and maternal mortality, and increasing access to primary and secondary education. Significant progress has been made in these areas, but there is still much work to be done.\n",
      "\n",
      "Q4: How can individuals contribute to achieving the Sustainable Development Goals, and what role can organizations like the United Nations Development Programme (UNDP) play?\n",
      "A4: Individuals can contribute to achieving the SDGs by making a donation, starting a fundraiser, spreading the word, and showing their support through various means. Organizations like the UNDP play a crucial role in working with nations to make the Goals a reality, championing the Goals, and providing support to countries to achieve the SDGs by 2030.\n",
      "\n",
      "Q5: What is the importance of promoting peaceful and inclusive societies, and how can this be achieved?\n",
      "A5: Promoting peaceful and inclusive societies is crucial for sustainable development, as it enables countries to develop and people to eat, teach, learn, work, and raise families. This can be achieved by strengthening the rule of law, reducing violence, and bringing developing countries into the center of global governance. The SDGs aim to reduce all forms of violence and propose that governments and communities find lasting solutions to conflict and insecurity.\n"
     ]
    }
   ],
   "source": [
    "ques = ques_gen_chain.run(document_ques_gen)\n",
    "print(ques)"
   ]
  },
  {
   "cell_type": "code",
   "execution_count": 134,
   "metadata": {},
   "outputs": [
    {
     "data": {
      "text/plain": [
       "\"Q1: What is the main goal of the Sustainable Development Goals (SDGs) created by leaders from 193 countries in 2015?\\nA1: The main goal of the SDGs is to imagine a future just 15 years off that would be rid of poverty and hunger, and safe from the worst effects of climate change. This set of 17 goals aims to achieve a better future for all by 2030. The SDGs are an ambitious plan, but there's ample evidence that they can be succeeded.\\n\\nQ2: What progress has been made in reducing extreme poverty and hunger worldwide?\\nA2: The international community has made significant progress in reducing extreme poverty, cutting it in half over the past 15 years. However, more than 800 million people still live on less than $1.25 a day, and hunger affects one out of every nine people on earth. Despite this, many countries have made progress in meeting the nutritional needs of their most vulnerable people.\\n\\nQ3: What are some of the key areas of focus for achieving the Sustainable Development Goals, particularly in terms of health and education?\\nA3: The SDGs focus on several key areas, including ensuring healthy lives and promoting well-being for all, as well as providing inclusive and equitable quality education. This includes achieving universal health coverage, reducing child and maternal mortality, and increasing access to primary and secondary education. Significant progress has been made in these areas, but there is still much work to be done.\\n\\nQ4: How can individuals contribute to achieving the Sustainable Development Goals, and what role can organizations like the United Nations Development Programme (UNDP) play?\\nA4: Individuals can contribute to achieving the SDGs by making a donation, starting a fundraiser, spreading the word, and showing their support through various means. Organizations like the UNDP play a crucial role in working with nations to make the Goals a reality, championing the Goals, and providing support to countries to achieve the SDGs by 2030.\\n\\nQ5: What is the importance of promoting peaceful and inclusive societies, and how can this be achieved?\\nA5: Promoting peaceful and inclusive societies is crucial for sustainable development, as it enables countries to develop and people to eat, teach, learn, work, and raise families. This can be achieved by strengthening the rule of law, reducing violence, and bringing developing countries into the center of global governance. The SDGs aim to reduce all forms of violence and propose that governments and communities find lasting solutions to conflict and insecurity.\""
      ]
     },
     "execution_count": 134,
     "metadata": {},
     "output_type": "execute_result"
    }
   ],
   "source": [
    "ques"
   ]
  },
  {
   "cell_type": "code",
   "execution_count": 136,
   "metadata": {},
   "outputs": [
    {
     "name": "stdout",
     "output_type": "stream",
     "text": [
      "['What is the main goal of the Sustainable Development Goals (SDGs) created by leaders from 193 countries in 2015?', 'What progress has been made in reducing extreme poverty and hunger worldwide?', 'What are some of the key areas of focus for achieving the Sustainable Development Goals, particularly in terms of health and education?', 'How can individuals contribute to achieving the Sustainable Development Goals, and what role can organizations like the United Nations Development Programme (UNDP) play?', 'What is the importance of promoting peaceful and inclusive societies, and how can this be achieved?']\n"
     ]
    }
   ],
   "source": [
    "import re\n",
    "\n",
    "# Extracting questions using regex\n",
    "questions = re.findall(r'Q\\d+: (.*?)\\n', ques)\n",
    "\n",
    "# Formatting the output as a list\n",
    "print(questions)\n"
   ]
  },
  {
   "cell_type": "code",
   "execution_count": 137,
   "metadata": {},
   "outputs": [
    {
     "data": {
      "text/plain": [
       "['What is the main goal of the Sustainable Development Goals (SDGs) created by leaders from 193 countries in 2015?',\n",
       " 'What progress has been made in reducing extreme poverty and hunger worldwide?',\n",
       " 'What are some of the key areas of focus for achieving the Sustainable Development Goals, particularly in terms of health and education?',\n",
       " 'How can individuals contribute to achieving the Sustainable Development Goals, and what role can organizations like the United Nations Development Programme (UNDP) play?',\n",
       " 'What is the importance of promoting peaceful and inclusive societies, and how can this be achieved?']"
      ]
     },
     "execution_count": 137,
     "metadata": {},
     "output_type": "execute_result"
    }
   ],
   "source": [
    "questions"
   ]
  },
  {
   "cell_type": "markdown",
   "metadata": {},
   "source": []
  },
  {
   "cell_type": "code",
   "execution_count": 138,
   "metadata": {},
   "outputs": [],
   "source": [
    "from langchain.embeddings import HuggingFaceEmbeddings"
   ]
  },
  {
   "cell_type": "code",
   "execution_count": 1,
   "metadata": {},
   "outputs": [],
   "source": [
    "# os.environ[\"HUGGINGFACEHUB_API_TOKEN\"] = os.getenv(\"HUGGINGFACEHUB_API_TOKEN\")"
   ]
  },
  {
   "cell_type": "code",
   "execution_count": 140,
   "metadata": {},
   "outputs": [],
   "source": [
    "\n",
    "from langchain.embeddings import HuggingFaceHubEmbeddings\n",
    "\n",
    "# Load embeddings using Hugging Face Hub\n",
    "embeddings = HuggingFaceHubEmbeddings(\n",
    "    repo_id=\"sentence-transformers/all-MiniLM-L6-v2\"  # Change model if needed\n",
    ")"
   ]
  },
  {
   "cell_type": "code",
   "execution_count": 141,
   "metadata": {},
   "outputs": [],
   "source": [
    "# from langchain.embeddings import FastEmbedEmbeddings\n",
    "\n",
    "# # Initialize FastEmbed\n",
    "# embeddings = FastEmbedEmbeddings(model_name=\"BAAI/bge-small-en\")\n",
    "\n"
   ]
  },
  {
   "cell_type": "code",
   "execution_count": 142,
   "metadata": {},
   "outputs": [],
   "source": [
    "from langchain.vectorstores import FAISS "
   ]
  },
  {
   "cell_type": "code",
   "execution_count": 143,
   "metadata": {},
   "outputs": [
    {
     "name": "stderr",
     "output_type": "stream",
     "text": [
      "c:\\Users\\Dell\\anaconda3\\envs\\interview\\lib\\site-packages\\huggingface_hub\\utils\\_deprecation.py:131: FutureWarning: 'post' (from 'huggingface_hub.inference._client') is deprecated and will be removed from version '0.31.0'. Making direct POST requests to the inference server is not supported anymore. Please use task methods instead (e.g. `InferenceClient.chat_completion`). If your use case is not supported, please open an issue in https://github.com/huggingface/huggingface_hub.\n",
      "  warnings.warn(warning_message, FutureWarning)\n"
     ]
    }
   ],
   "source": [
    "vector_store = FAISS.from_documents(document_ans_gen, embeddings)"
   ]
  },
  {
   "cell_type": "code",
   "execution_count": 144,
   "metadata": {},
   "outputs": [],
   "source": [
    "llm_answer_gen = ChatGroq(\n",
    "    temperature=0.1, \n",
    "    model_name=\"llama3-70b-8192\"  \n",
    ")"
   ]
  },
  {
   "cell_type": "code",
   "execution_count": 145,
   "metadata": {},
   "outputs": [
    {
     "data": {
      "text/plain": [
       "['What is the main goal of the Sustainable Development Goals (SDGs) created by leaders from 193 countries in 2015?',\n",
       " 'What progress has been made in reducing extreme poverty and hunger worldwide?',\n",
       " 'What are some of the key areas of focus for achieving the Sustainable Development Goals, particularly in terms of health and education?',\n",
       " 'How can individuals contribute to achieving the Sustainable Development Goals, and what role can organizations like the United Nations Development Programme (UNDP) play?',\n",
       " 'What is the importance of promoting peaceful and inclusive societies, and how can this be achieved?']"
      ]
     },
     "execution_count": 145,
     "metadata": {},
     "output_type": "execute_result"
    }
   ],
   "source": [
    "questions"
   ]
  },
  {
   "cell_type": "code",
   "execution_count": 146,
   "metadata": {},
   "outputs": [],
   "source": [
    "ques_list = questions"
   ]
  },
  {
   "cell_type": "code",
   "execution_count": null,
   "metadata": {},
   "outputs": [
    {
     "data": {
      "text/plain": [
       "['What is the main goal of the Sustainable Development Goals (SDGs) created by leaders from 193 countries in 2015, and what is the target year for achieving these goals?',\n",
       " 'According to the text, what are the three main aspects of the goal to end hunger, and how can they be achieved by 2030?',\n",
       " 'The text mentions that the number of people with access to electricity increased by 1.7 billion between 1990 and 2010. What is the current challenge regarding energy, and how can it be addressed?',\n",
       " 'How does the text suggest that the goal of ensuring inclusive and equitable quality education for all can be achieved, and what progress has been made in this area since 2000?',\n",
       " 'What is the relationship between economic growth and job creation, and how can policies be promoted to encourage entrepreneurship and job creation?',\n",
       " 'The text highlights the importance of reducing inequality within and among countries. What are some ways to address this issue, according to the text?',\n",
       " 'What is the impact of climate change on the world, and how can urgent action be taken to combat it and its effects?',\n",
       " 'The text mentions that oceans absorb about 30% of the carbon dioxide produced by humans, but are becoming more acidic due to increased carbon dioxide production. What are some targets for managing and protecting life below water?',\n",
       " 'How can the goal of promoting peaceful and inclusive societies for sustainable development be achieved, and what are some ways to provide access to justice for all?',\n",
       " 'What are some ways that individuals can contribute to achieving the Sustainable Development Goals, according to the text, and how can they show their support and help reach these goals by 2030?']"
      ]
     },
     "execution_count": 203,
     "metadata": {},
     "output_type": "execute_result"
    }
   ],
   "source": [
    "ques_list"
   ]
  },
  {
   "cell_type": "code",
   "execution_count": 147,
   "metadata": {},
   "outputs": [],
   "source": [
    "from langchain.chains import RetrievalQA"
   ]
  },
  {
   "cell_type": "code",
   "execution_count": 148,
   "metadata": {},
   "outputs": [],
   "source": [
    "answer_generation_chain = RetrievalQA.from_chain_type(\n",
    "    llm=llm_answer_gen,\n",
    "    chain_type = \"stuff\",\n",
    "    retriever = vector_store.as_retriever()\n",
    ")"
   ]
  },
  {
   "cell_type": "code",
   "execution_count": 149,
   "metadata": {},
   "outputs": [
    {
     "name": "stdout",
     "output_type": "stream",
     "text": [
      "Question:  What is the main goal of the Sustainable Development Goals (SDGs) created by leaders from 193 countries in 2015?\n"
     ]
    },
    {
     "name": "stderr",
     "output_type": "stream",
     "text": [
      "c:\\Users\\Dell\\anaconda3\\envs\\interview\\lib\\site-packages\\huggingface_hub\\utils\\_deprecation.py:131: FutureWarning: 'post' (from 'huggingface_hub.inference._client') is deprecated and will be removed from version '0.31.0'. Making direct POST requests to the inference server is not supported anymore. Please use task methods instead (e.g. `InferenceClient.chat_completion`). If your use case is not supported, please open an issue in https://github.com/huggingface/huggingface_hub.\n",
      "  warnings.warn(warning_message, FutureWarning)\n"
     ]
    },
    {
     "name": "stdout",
     "output_type": "stream",
     "text": [
      "Answer:  The main goal of the Sustainable Development Goals (SDGs) created by leaders from 193 countries in 2015 is to imagine a future, just 15 years off, that would be rid of poverty and hunger, and safe from the worst effects of climate change.\n",
      "--------------------------------------------------\\n\\n\n",
      "Question:  What progress has been made in reducing extreme poverty and hunger worldwide?\n"
     ]
    },
    {
     "name": "stderr",
     "output_type": "stream",
     "text": [
      "c:\\Users\\Dell\\anaconda3\\envs\\interview\\lib\\site-packages\\huggingface_hub\\utils\\_deprecation.py:131: FutureWarning: 'post' (from 'huggingface_hub.inference._client') is deprecated and will be removed from version '0.31.0'. Making direct POST requests to the inference server is not supported anymore. Please use task methods instead (e.g. `InferenceClient.chat_completion`). If your use case is not supported, please open an issue in https://github.com/huggingface/huggingface_hub.\n",
      "  warnings.warn(warning_message, FutureWarning)\n"
     ]
    },
    {
     "name": "stdout",
     "output_type": "stream",
     "text": [
      "Answer:  According to the text, significant progress has been made in reducing extreme poverty and hunger worldwide. In the past 15 years, the international community has cut extreme poverty in half. Additionally, hunger has dropped by almost half in the past 20 years, with many countries that used to suffer from famine and hunger now able to meet the nutritional needs of their most vulnerable people.\n",
      "--------------------------------------------------\\n\\n\n",
      "Question:  What are some of the key areas of focus for achieving the Sustainable Development Goals, particularly in terms of health and education?\n"
     ]
    },
    {
     "name": "stderr",
     "output_type": "stream",
     "text": [
      "c:\\Users\\Dell\\anaconda3\\envs\\interview\\lib\\site-packages\\huggingface_hub\\utils\\_deprecation.py:131: FutureWarning: 'post' (from 'huggingface_hub.inference._client') is deprecated and will be removed from version '0.31.0'. Making direct POST requests to the inference server is not supported anymore. Please use task methods instead (e.g. `InferenceClient.chat_completion`). If your use case is not supported, please open an issue in https://github.com/huggingface/huggingface_hub.\n",
      "  warnings.warn(warning_message, FutureWarning)\n"
     ]
    },
    {
     "name": "stdout",
     "output_type": "stream",
     "text": [
      "Answer:  Based on the provided context, some key areas of focus for achieving the Sustainable Development Goals (SDGs) in terms of health and education are:\n",
      "\n",
      "**Health:**\n",
      "\n",
      "1. **Ensure healthy lives and well-being for all at all ages**: This includes reducing preventable child and maternal deaths, ending epidemics such as AIDS, tuberculosis, and malaria, and achieving universal health coverage.\n",
      "2. **Access to safe and effective medicines and vaccines**: This involves ensuring that everyone has access to essential medicines and vaccines, and promoting research and development of new health technologies.\n",
      "3. **Reduce mortality rates**: This includes reducing the number of deaths from non-communicable diseases, such as heart disease, stroke, and diabetes, and promoting mental health and well-being.\n",
      "\n",
      "**Education:**\n",
      "\n",
      "1. **Ensure inclusive and equitable quality education and promote lifelong learning opportunities for all**: This includes ensuring that all children have access to quality primary and secondary education, and promoting vocational training and higher education.\n",
      "2. **Improve education outcomes**: This involves increasing the number of children who complete primary and secondary education, and improving literacy rates among adults.\n",
      "3. **Reduce disparities in education**: This includes reducing the gap in education outcomes between boys and girls, and between children from different socio-economic backgrounds.\n",
      "\n",
      "Additionally, other key areas of focus for achieving the SDGs include:\n",
      "\n",
      "* **Poverty reduction**: Ending extreme poverty and reducing income inequality.\n",
      "* **Gender equality**: Achieving gender equality and empowering all women and girls.\n",
      "* **Environmental sustainability**: Protecting the natural environment, promoting sustainable agriculture, and addressing climate change.\n",
      "* **Inclusive economic growth**: Promoting sustained, inclusive, and sustainable economic growth, and achieving full and productive employment and decent work for all.\n",
      "\n",
      "These areas of focus are interconnected and interdependent, and achieving progress in one area can have positive impacts on others.\n",
      "--------------------------------------------------\\n\\n\n",
      "Question:  How can individuals contribute to achieving the Sustainable Development Goals, and what role can organizations like the United Nations Development Programme (UNDP) play?\n"
     ]
    },
    {
     "name": "stderr",
     "output_type": "stream",
     "text": [
      "c:\\Users\\Dell\\anaconda3\\envs\\interview\\lib\\site-packages\\huggingface_hub\\utils\\_deprecation.py:131: FutureWarning: 'post' (from 'huggingface_hub.inference._client') is deprecated and will be removed from version '0.31.0'. Making direct POST requests to the inference server is not supported anymore. Please use task methods instead (e.g. `InferenceClient.chat_completion`). If your use case is not supported, please open an issue in https://github.com/huggingface/huggingface_hub.\n",
      "  warnings.warn(warning_message, FutureWarning)\n"
     ]
    },
    {
     "name": "stdout",
     "output_type": "stream",
     "text": [
      "Answer:  According to the text, individuals can contribute to achieving the Sustainable Development Goals (SDGs) in several ways:\n",
      "\n",
      "1. **Make a donation**: Financial support can help reduce and eradicate poverty.\n",
      "2. **Start a fundraiser**: Organize events or campaigns to raise money and awareness about the SDGs.\n",
      "3. **Spread the word**: Share information about the SDGs on social media, with friends and family, and in communities to raise awareness and inspire action.\n",
      "4. **Visit shop.undp.org**: Purchase SDG merchandise and show support for the goals.\n",
      "5. **Get involved with UNDP**: Explore opportunities to volunteer, intern, or work with UNDP to contribute to achieving the SDGs.\n",
      "\n",
      "Organizations like the United Nations Development Programme (UNDP) play a crucial role in achieving the SDGs by:\n",
      "\n",
      "1. **Providing technical assistance**: UNDP helps countries develop and implement policies and programs to achieve the SDGs.\n",
      "2. **Building partnerships**: UNDP brings together governments, civil society, private sector, and other stakeholders to collaborate on SDG-related projects and initiatives.\n",
      "3. **Mobilizing resources**: UNDP helps mobilize financial and human resources to support SDG implementation.\n",
      "4. **Championing the Goals**: UNDP raises awareness about the SDGs and promotes their importance globally.\n",
      "5. **Supporting country-led development**: UNDP works with countries to develop and implement their own SDG strategies and plans.\n",
      "\n",
      "By working together, individuals, organizations, and governments can make a significant impact in achieving the Sustainable Development Goals and creating a more equitable, sustainable, and prosperous world for all.\n",
      "--------------------------------------------------\\n\\n\n",
      "Question:  What is the importance of promoting peaceful and inclusive societies, and how can this be achieved?\n"
     ]
    },
    {
     "name": "stderr",
     "output_type": "stream",
     "text": [
      "c:\\Users\\Dell\\anaconda3\\envs\\interview\\lib\\site-packages\\huggingface_hub\\utils\\_deprecation.py:131: FutureWarning: 'post' (from 'huggingface_hub.inference._client') is deprecated and will be removed from version '0.31.0'. Making direct POST requests to the inference server is not supported anymore. Please use task methods instead (e.g. `InferenceClient.chat_completion`). If your use case is not supported, please open an issue in https://github.com/huggingface/huggingface_hub.\n",
      "  warnings.warn(warning_message, FutureWarning)\n"
     ]
    },
    {
     "name": "stdout",
     "output_type": "stream",
     "text": [
      "Answer:  The importance of promoting peaceful and inclusive societies is not explicitly mentioned in the provided text. However, it can be inferred that promoting peaceful and inclusive societies is crucial for achieving the Sustainable Development Goals (SDGs).\n",
      "\n",
      "Peaceful and inclusive societies are essential for ensuring that all individuals have access to basic human rights, such as education, healthcare, and economic opportunities. Inclusive societies also promote social cohesion, reduce inequality, and foster a sense of belonging among citizens.\n",
      "\n",
      "To achieve peaceful and inclusive societies, governments, civil society, and individuals can work together to:\n",
      "\n",
      "1. Promote social justice and equality: Addressing systemic inequalities and discrimination can help reduce social unrest and promote a sense of fairness.\n",
      "2. Foster inclusive decision-making: Encourage participation from diverse groups, including women, youth, and marginalized communities, in decision-making processes.\n",
      "3. Support education and cultural exchange: Education and cultural exchange programs can help promote understanding, tolerance, and empathy among different groups.\n",
      "4. Encourage dialogue and conflict resolution: Establish mechanisms for peaceful conflict resolution and dialogue to address grievances and prevent violence.\n",
      "5. Strengthen institutions and the rule of law: Ensure that institutions are transparent, accountable, and responsive to the needs of all citizens.\n",
      "6. Address the root causes of conflict: Identify and address the underlying causes of conflict, such as poverty, inequality, and political exclusion.\n",
      "\n",
      "While the provided text does not explicitly discuss promoting peaceful and inclusive societies, it does highlight the importance of achieving the SDGs, which are closely linked to promoting peaceful and inclusive societies.\n",
      "--------------------------------------------------\\n\\n\n"
     ]
    }
   ],
   "source": [
    "# Answer each question and save to a file\n",
    "for question in ques_list:\n",
    "    print(\"Question: \", question)\n",
    "    answer = answer_generation_chain.run(question)\n",
    "    print(\"Answer: \", answer)\n",
    "    print(\"--------------------------------------------------\\\\n\\\\n\")\n",
    "    # Save answer to file\n",
    "    with open(\"answers.txt\", \"a\") as f:\n",
    "        f.write(\"Question: \" + question + \"\\\\n\")\n",
    "        f.write(\"Answer: \" + answer + \"\\\\n\")\n",
    "        f.write(\"--------------------------------------------------\\\\n\\\\n\")\n",
    "\n",
    "\n"
   ]
  },
  {
   "cell_type": "code",
   "execution_count": null,
   "metadata": {},
   "outputs": [],
   "source": []
  }
 ],
 "metadata": {
  "kernelspec": {
   "display_name": "interview",
   "language": "python",
   "name": "python3"
  },
  "language_info": {
   "codemirror_mode": {
    "name": "ipython",
    "version": 3
   },
   "file_extension": ".py",
   "mimetype": "text/x-python",
   "name": "python",
   "nbconvert_exporter": "python",
   "pygments_lexer": "ipython3",
   "version": "3.10.16"
  }
 },
 "nbformat": 4,
 "nbformat_minor": 2
}
